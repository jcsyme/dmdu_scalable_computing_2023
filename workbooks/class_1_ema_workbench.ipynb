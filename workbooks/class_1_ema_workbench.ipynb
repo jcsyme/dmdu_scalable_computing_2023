{
 "cells": [
  {
   "cell_type": "code",
   "execution_count": 1,
   "metadata": {},
   "outputs": [
    {
     "name": "stderr",
     "output_type": "stream",
     "text": [
      "/Users/jsyme/anaconda3/lib/python3.8/site-packages/ema_workbench/em_framework/optimization.py:48: ImportWarning: platypus based optimization not available\n",
      "  warnings.warn(\"platypus based optimization not available\", ImportWarning)\n"
     ]
    }
   ],
   "source": [
    "#\n",
    "# tutorial taken from https://emaworkbench.readthedocs.io/en/latest/basic_tutorial.html and modified slightly\n",
    "#\n",
    "import ema_workbench as em"
   ]
  },
  {
   "cell_type": "code",
   "execution_count": 2,
   "metadata": {},
   "outputs": [],
   "source": [
    "# define a simple model\n",
    "\n",
    "# REALLY THE \"R\" IN XLRM \n",
    "def supply_balance(demand_per_person = None, population = None, industrial_demand = None, supply = None):\n",
    "    \n",
    "    # total demand\n",
    "    dem_total = demand_per_person*population + industrial_demand\n",
    "    \n",
    "    # set up a return dictionary\n",
    "    dict_ret = {\n",
    "        \"demand\": dem_total,\n",
    "        \"net_balance\": supply - dem_total\n",
    "    }\n",
    "    \n",
    "    return dict_ret\n",
    "    "
   ]
  },
  {
   "cell_type": "code",
   "execution_count": null,
   "metadata": {},
   "outputs": [],
   "source": []
  },
  {
   "cell_type": "code",
   "execution_count": 3,
   "metadata": {},
   "outputs": [],
   "source": [
    "# create a model object (code object to nest the R)\n",
    "model = em.Model('simpleModel', function = supply_balance)\n",
    "\n",
    "# (X) specify exogenous uncertainties (along with ranges)\n",
    "model.uncertainties = [\n",
    "    em.RealParameter(\"demand_per_person\", 120, 130),\n",
    "    em.RealParameter(\"population\", 5, 8),\n",
    "    em.RealParameter(\"industrial_demand\", 200, 500),\n",
    "    em.RealParameter(\"supply\", 500, 1400)\n",
    "]\n",
    "\n",
    "# (M) specify outcomes\n",
    "model.outcomes = [em.ScalarOutcome(\"demand\"), em.ScalarOutcome(\"net_balance\")]\n",
    "\n",
    "# run some results\n",
    "results = em.perform_experiments(model, 100)"
   ]
  },
  {
   "cell_type": "code",
   "execution_count": 6,
   "metadata": {},
   "outputs": [
    {
     "data": {
      "text/plain": [
       "(    demand_per_person  industrial_demand  population       supply scenario  \\\n",
       " 0          128.080029         440.566542    5.769524   740.861485        0   \n",
       " 1          128.587153         267.904274    6.801037  1221.139010        1   \n",
       " 2          122.558846         213.291613    6.350456   787.340389        2   \n",
       " 3          120.114315         415.078957    5.866684  1031.503865        3   \n",
       " 4          124.385647         421.605021    5.292798   578.912774        4   \n",
       " ..                ...                ...         ...          ...      ...   \n",
       " 95         125.715502         416.058175    5.659938   597.514184       95   \n",
       " 96         129.658892         431.698171    6.959608  1187.969919       96   \n",
       " 97         128.131397         311.895949    5.935509   918.486048       97   \n",
       " 98         124.629801         217.304142    5.419937   757.113111       98   \n",
       " 99         127.880724         228.137160    5.887956   686.891634       99   \n",
       " \n",
       "    policy        model  \n",
       " 0    None  simpleModel  \n",
       " 1    None  simpleModel  \n",
       " 2    None  simpleModel  \n",
       " 3    None  simpleModel  \n",
       " 4    None  simpleModel  \n",
       " ..    ...          ...  \n",
       " 95   None  simpleModel  \n",
       " 96   None  simpleModel  \n",
       " 97   None  simpleModel  \n",
       " 98   None  simpleModel  \n",
       " 99   None  simpleModel  \n",
       " \n",
       " [100 rows x 7 columns],\n",
       " {'demand': array([1179.5273837 , 1142.43020361,  991.59621728, 1119.75172524,\n",
       "         1079.95307072, 1178.29533051, 1134.5728759 , 1038.72021151,\n",
       "         1178.62801049, 1149.15567374, 1294.45413456,  936.82173076,\n",
       "         1197.31678335, 1220.29180319, 1103.77735633,  967.78936995,\n",
       "         1091.1244726 , 1371.21946705, 1139.39805084, 1237.46078853,\n",
       "         1341.20169108, 1180.97586521, 1006.87545908, 1297.55854572,\n",
       "         1084.8651603 , 1125.22271663, 1314.05021359, 1240.88451947,\n",
       "         1211.57125311, 1102.49554843, 1227.54925211,  978.88267204,\n",
       "         1403.67158232, 1109.44401299, 1072.68855179, 1015.10216561,\n",
       "         1133.67132373, 1213.02813485, 1395.92697473, 1004.19107355,\n",
       "         1217.57391314, 1201.36760594, 1200.57477479, 1205.37311368,\n",
       "         1243.70505245, 1035.44441828, 1177.06532421, 1003.7886879 ,\n",
       "         1328.65489902, 1076.62141554,  883.23247511, 1060.42383908,\n",
       "         1050.99780016, 1434.6705459 , 1180.14366408, 1088.94657335,\n",
       "         1272.62011822, 1393.95458379, 1011.62212704, 1078.12942135,\n",
       "         1005.06315693, 1190.5535101 , 1217.18284455, 1288.15493729,\n",
       "         1444.37396268,  888.65430282, 1412.65564707, 1154.73172698,\n",
       "         1004.10474287, 1344.46645954,  934.85233328, 1181.80039072,\n",
       "          965.70225952, 1114.82016616, 1017.08434581, 1171.97664744,\n",
       "         1250.56403096, 1222.32571556, 1311.51884486, 1134.78508537,\n",
       "         1262.10514572, 1354.75154671,  989.05816149, 1183.88163392,\n",
       "         1194.03945094, 1376.12036705, 1366.99111642, 1191.54641439,\n",
       "          926.76303867, 1265.41525707, 1318.93946412, 1443.00338439,\n",
       "         1225.98077527,  977.54934185, 1163.08153005, 1127.60006072,\n",
       "         1334.07324322, 1072.42099334,  892.78978975,  981.09322775]),\n",
       "  'net_balance': array([-438.66589852,   78.70880662, -204.25582798,  -88.24786   ,\n",
       "         -501.04029719,  148.44132526,  130.15518966, -224.30039099,\n",
       "         -526.91801235,  -69.14276547,  -52.47158468, -367.15768787,\n",
       "           80.26987254, -614.40697024, -112.98686648, -308.04256617,\n",
       "          266.29519658, -457.27511125,  108.32047642, -228.85756096,\n",
       "         -788.63615208, -344.12964547, -127.48982691, -398.53564853,\n",
       "          259.3488393 ,  182.27267567, -421.29188817,   56.23179605,\n",
       "          -92.93481583,  -32.56094043, -700.40363648, -284.46102744,\n",
       "         -700.99492011, -265.40230064,  281.84635192, -239.75236636,\n",
       "         -551.96774202,  -36.02769457, -201.81972277, -324.88803316,\n",
       "         -118.76030419,  166.92611852, -662.58467182, -341.90502204,\n",
       "           25.56640653, -102.95915401, -344.96277562, -204.95056915,\n",
       "         -199.71825997,   64.42078861,  181.73253381,  -90.55427742,\n",
       "          153.19067354, -505.53535158, -136.26548519, -534.48777208,\n",
       "           55.98452053, -408.38253169,  142.31948539, -219.21605342,\n",
       "          -57.53779355, -171.53123147,   72.86731764, -411.63006184,\n",
       "         -697.90719183,  140.22217931, -240.46120466,    4.54837669,\n",
       "         -363.06409653, -734.62822488,   18.57901429,  -44.48365122,\n",
       "         -143.95824626,  200.41917124, -390.75921303,  224.52339979,\n",
       "         -629.2739142 , -699.81946684, -222.38520813, -418.45300185,\n",
       "          -25.8143981 , -303.81698681, -488.9124337 ,   35.86461709,\n",
       "          189.6231631 , -708.55293858, -640.36054638, -477.73893834,\n",
       "           32.88759545,  113.77024442, -550.44992362, -649.85386963,\n",
       "         -225.50041156,  130.48934344, -653.11620146, -530.08587685,\n",
       "         -146.10332465, -153.93494524, -135.67667833, -294.20159354])})"
      ]
     },
     "execution_count": 6,
     "metadata": {},
     "output_type": "execute_result"
    }
   ],
   "source": [
    "results\n"
   ]
  },
  {
   "cell_type": "code",
   "execution_count": null,
   "metadata": {},
   "outputs": [],
   "source": []
  }
 ],
 "metadata": {
  "kernelspec": {
   "display_name": "Python 3 (ipykernel)",
   "language": "python",
   "name": "python3"
  },
  "language_info": {
   "codemirror_mode": {
    "name": "ipython",
    "version": 3
   },
   "file_extension": ".py",
   "mimetype": "text/x-python",
   "name": "python",
   "nbconvert_exporter": "python",
   "pygments_lexer": "ipython3",
   "version": "3.11.0"
  }
 },
 "nbformat": 4,
 "nbformat_minor": 4
}
