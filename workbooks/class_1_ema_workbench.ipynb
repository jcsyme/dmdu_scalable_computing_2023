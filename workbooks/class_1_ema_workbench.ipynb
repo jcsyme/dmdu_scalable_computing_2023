{
 "cells": [
  {
   "cell_type": "code",
   "execution_count": 1,
   "metadata": {},
   "outputs": [
    {
     "ename": "ModuleNotFoundError",
     "evalue": "No module named 'ema_workbench'",
     "output_type": "error",
     "traceback": [
      "\u001b[0;31m---------------------------------------------------------------------------\u001b[0m",
      "\u001b[0;31mModuleNotFoundError\u001b[0m                       Traceback (most recent call last)",
      "Cell \u001b[0;32mIn[1], line 4\u001b[0m\n\u001b[1;32m      1\u001b[0m \u001b[38;5;66;03m#\u001b[39;00m\n\u001b[1;32m      2\u001b[0m \u001b[38;5;66;03m# tutorial taken from https://emaworkbench.readthedocs.io/en/latest/basic_tutorial.html and modified slightly\u001b[39;00m\n\u001b[1;32m      3\u001b[0m \u001b[38;5;66;03m#\u001b[39;00m\n\u001b[0;32m----> 4\u001b[0m \u001b[38;5;28;01mimport\u001b[39;00m \u001b[38;5;21;01mema_workbench\u001b[39;00m \u001b[38;5;28;01mas\u001b[39;00m \u001b[38;5;21;01mem\u001b[39;00m\n",
      "\u001b[0;31mModuleNotFoundError\u001b[0m: No module named 'ema_workbench'"
     ]
    }
   ],
   "source": [
    "#\n",
    "# tutorial taken from https://emaworkbench.readthedocs.io/en/latest/basic_tutorial.html and modified slightly\n",
    "#\n",
    "import ema_workbench as em"
   ]
  },
  {
   "cell_type": "code",
   "execution_count": 2,
   "metadata": {},
   "outputs": [],
   "source": [
    "# define a simple model\n",
    "\n",
    "# REALLY THE \"R\" IN XLRM \n",
    "def supply_balance(demand_per_person = None, population = None, industrial_demand = None, supply = None):\n",
    "    \n",
    "    # total demand\n",
    "    dem_total = demand_per_person*population + industrial_demand\n",
    "    \n",
    "    # set up a return dictionary\n",
    "    dict_ret = {\n",
    "        \"demand\": dem_total,\n",
    "        \"net_balance\": supply - dem_total\n",
    "    }\n",
    "    \n",
    "    return dict_ret\n",
    "    "
   ]
  },
  {
   "cell_type": "code",
   "execution_count": null,
   "metadata": {},
   "outputs": [],
   "source": []
  },
  {
   "cell_type": "code",
   "execution_count": 3,
   "metadata": {},
   "outputs": [],
   "source": [
    "# create a model object (code object to nest the R)\n",
    "model = em.Model('simpleModel', function = supply_balance)\n",
    "\n",
    "# (X) specify exogenous uncertainties (along with ranges)\n",
    "model.uncertainties = [\n",
    "    em.RealParameter(\"demand_per_person\", 120, 130),\n",
    "    em.RealParameter(\"population\", 5, 8),\n",
    "    em.RealParameter(\"industrial_demand\", 200, 500),\n",
    "    em.RealParameter(\"supply\", 500, 1400)\n",
    "]\n",
    "\n",
    "# (M) specify outcomes\n",
    "model.outcomes = [em.ScalarOutcome(\"demand\"), em.ScalarOutcome(\"net_balance\")]\n",
    "\n",
    "# run some results\n",
    "results = em.perform_experiments(model, 100)"
   ]
  },
  {
   "cell_type": "code",
   "execution_count": null,
   "metadata": {},
   "outputs": [],
   "source": []
  },
  {
   "cell_type": "code",
   "execution_count": null,
   "metadata": {},
   "outputs": [],
   "source": []
  }
 ],
 "metadata": {
  "kernelspec": {
   "display_name": "Python 3 (ipykernel)",
   "language": "python",
   "name": "python3"
  },
  "language_info": {
   "codemirror_mode": {
    "name": "ipython",
    "version": 3
   },
   "file_extension": ".py",
   "mimetype": "text/x-python",
   "name": "python",
   "nbconvert_exporter": "python",
   "pygments_lexer": "ipython3",
   "version": "3.11.8"
  }
 },
 "nbformat": 4,
 "nbformat_minor": 4
}
