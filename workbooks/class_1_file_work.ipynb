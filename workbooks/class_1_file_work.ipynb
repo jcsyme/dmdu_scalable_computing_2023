{
 "cells": [
  {
   "cell_type": "code",
   "execution_count": 8,
   "metadata": {},
   "outputs": [],
   "source": [
    "import numpy as np\n",
    "import os, os.path\n",
    "import pathlib\n",
    "\n",
    "\n"
   ]
  },
  {
   "cell_type": "markdown",
   "metadata": {},
   "source": [
    "# Paths\n",
    "- Use path management systems in your project\n",
    "- Don't hardcore\n",
    "- Avoid `\"/\" + dir_name + \"/\"` or `\"\\\\\" + dir_name + \"\\\\\"`; use `pathlib.Path()` or `os.path.join` instead"
   ]
  },
  {
   "cell_type": "code",
   "execution_count": 19,
   "metadata": {},
   "outputs": [],
   "source": [
    "#\n",
    "path_project = pathlib.Path(os.getcwd()).parents[0]\n",
    "path_workbooks = dir_project.joinpath(\"workbooks\")\n",
    "path_joins = path_workbooks.joinpath(\"data_examples\", \"joins\")\n",
    "path_read = path_joins.joinpath(\"costs_15.csv\")\n"
   ]
  },
  {
   "cell_type": "code",
   "execution_count": 12,
   "metadata": {},
   "outputs": [
    {
     "data": {
      "text/plain": [
       "True"
      ]
     },
     "execution_count": 12,
     "metadata": {},
     "output_type": "execute_result"
    }
   ],
   "source": [
    "# check that it's a directory\n",
    "path_project.is_dir()"
   ]
  },
  {
   "cell_type": "code",
   "execution_count": 14,
   "metadata": {},
   "outputs": [
    {
     "data": {
      "text/plain": [
       "PosixPath('/Users/usuario/git')"
      ]
     },
     "execution_count": 14,
     "metadata": {},
     "output_type": "execute_result"
    }
   ],
   "source": [
    "# look up and down the tree\\\n",
    "path_project.parents[0]"
   ]
  },
  {
   "cell_type": "code",
   "execution_count": 15,
   "metadata": {},
   "outputs": [
    {
     "data": {
      "text/plain": [
       "PosixPath('/Users/usuario')"
      ]
     },
     "execution_count": 15,
     "metadata": {},
     "output_type": "execute_result"
    }
   ],
   "source": [
    "path_project.parents[1]"
   ]
  },
  {
   "cell_type": "code",
   "execution_count": 17,
   "metadata": {},
   "outputs": [
    {
     "data": {
      "text/plain": [
       "False"
      ]
     },
     "execution_count": 17,
     "metadata": {},
     "output_type": "execute_result"
    }
   ],
   "source": [
    "# is it a file?\n",
    "path_project.is_file()"
   ]
  },
  {
   "cell_type": "code",
   "execution_count": 20,
   "metadata": {},
   "outputs": [
    {
     "data": {
      "text/plain": [
       "False"
      ]
     },
     "execution_count": 20,
     "metadata": {},
     "output_type": "execute_result"
    }
   ],
   "source": [
    "# is the file a directory?\n",
    "path_read.is_dir()"
   ]
  },
  {
   "cell_type": "code",
   "execution_count": 21,
   "metadata": {},
   "outputs": [
    {
     "data": {
      "text/plain": [
       "True"
      ]
     },
     "execution_count": 21,
     "metadata": {},
     "output_type": "execute_result"
    }
   ],
   "source": [
    "path_read.is_file()"
   ]
  },
  {
   "cell_type": "code",
   "execution_count": 22,
   "metadata": {},
   "outputs": [
    {
     "data": {
      "text/plain": [
       "'costs_15'"
      ]
     },
     "execution_count": 22,
     "metadata": {},
     "output_type": "execute_result"
    }
   ],
   "source": [
    "path_read.stem"
   ]
  },
  {
   "cell_type": "code",
   "execution_count": 23,
   "metadata": {},
   "outputs": [
    {
     "data": {
      "text/plain": [
       "'.csv'"
      ]
     },
     "execution_count": 23,
     "metadata": {},
     "output_type": "execute_result"
    }
   ],
   "source": [
    "path_read.suffix"
   ]
  },
  {
   "cell_type": "code",
   "execution_count": null,
   "metadata": {},
   "outputs": [],
   "source": []
  },
  {
   "cell_type": "markdown",
   "metadata": {},
   "source": [
    "## Interactive\n",
    "- Create a template\n",
    "- Write it to the desktop\n",
    "- Read it back in and use it "
   ]
  },
  {
   "cell_type": "code",
   "execution_count": 28,
   "metadata": {},
   "outputs": [],
   "source": [
    "# create a template that we'll fill in\n",
    "path_template = \"\"     # SET READ FILE PATH HERE\n",
    "fp_write = \"write_tmp.txt\"                                 # SET WRITE FILE PATH HERE\n",
    "\n",
    "# some random numbers to write out\n",
    "rands = np.random.rand(15)\n",
    "\n"
   ]
  },
  {
   "cell_type": "markdown",
   "metadata": {},
   "source": [
    "## File Stream"
   ]
  },
  {
   "cell_type": "code",
   "execution_count": null,
   "metadata": {},
   "outputs": [],
   "source": [
    "with open(path_template, \"r\") as file:\n",
    "    str_template = file.read()\n"
   ]
  },
  {
   "cell_type": "markdown",
   "metadata": {},
   "source": [
    "##  different ways to read a file"
   ]
  },
  {
   "cell_type": "code",
   "execution_count": null,
   "metadata": {},
   "outputs": [],
   "source": [
    "# read as a string\n",
    "\n",
    "with open(path_read, \"r\") as file:\n",
    "    str_template = file.read()\n",
    "    \n",
    "# can turn it into a list of strings (each line) using .split()\n",
    "list_lns = str_template.split(\"\\n\")\n",
    "\n",
    "# imagine an iteration here\n",
    "dict_params = {\"N_ANHO\": 36, \"LOCATION\": \"Burque\"}\n",
    "\n",
    "str_out = str_template\n",
    "\n",
    "for k in dict_params.keys():\n",
    "    \n",
    "    str_repl = f\"${k}$\"\n",
    "    val_repl = str(dict_params[k])\n",
    "    \n",
    "    print(f\"str_repl:\\t{str_repl}\\nval_repl:\\t{val_repl}\\n\")\n",
    "    \n",
    "    str_out = str_out.replace(str_repl, val_repl)\n",
    "    \n",
    "    print(str_out)\n",
    "    print(\"\\n\\n\")\n",
    "\n",
    "lns_out = str_out.split(\"\\n\")\n"
   ]
  },
  {
   "cell_type": "code",
   "execution_count": 30,
   "metadata": {},
   "outputs": [],
   "source": [
    "with open(fp_write, \"w+\") as file:\n",
    "    file.writelines([str(x) for x in lns_out])"
   ]
  },
  {
   "cell_type": "code",
   "execution_count": 18,
   "metadata": {},
   "outputs": [],
   "source": [
    "# read all lines at once\n",
    "with open(path_read, \"r\") as file:\n",
    "    vec_lns = file.readlines()\n"
   ]
  },
  {
   "cell_type": "code",
   "execution_count": 30,
   "metadata": {},
   "outputs": [
    {
     "name": "stdout",
     "output_type": "stream",
     "text": [
      "Read 1 lines\n",
      "Read 2 lines\n",
      "Read 3 lines\n",
      "Read 4 lines\n",
      "Read 5 lines\n",
      "Read 6 lines\n",
      "Read 7 lines\n"
     ]
    }
   ],
   "source": [
    "# count lines using loop\n",
    "with open(path_read, \"r\") as file:\n",
    "    ln = file.readline()\n",
    "    i = 0\n",
    "    while ln != \"\":\n",
    "        i += 1\n",
    "        print(\"Read %s lines\"%(i))\n",
    "        ln = file.readline()\n",
    "        \n"
   ]
  },
  {
   "cell_type": "code",
   "execution_count": null,
   "metadata": {},
   "outputs": [],
   "source": []
  },
  {
   "cell_type": "markdown",
   "metadata": {},
   "source": [
    "##  different ways to write a file"
   ]
  },
  {
   "cell_type": "code",
   "execution_count": 41,
   "metadata": {},
   "outputs": [],
   "source": [
    "# write all lines at once (use w+ to create/write; it will overwrite a file that exists)\n",
    "with open(fp_write, \"w+\") as file:\n",
    "    file.writelines([str(x) for x in rands])\n"
   ]
  },
  {
   "cell_type": "code",
   "execution_count": 43,
   "metadata": {},
   "outputs": [],
   "source": [
    "# write as a string with index (remember the new line character)\n",
    "with open(fp_write, \"w+\") as file:\n",
    "    for i in range(len(rands)):\n",
    "        file.write(\"%s,%s\\n\"%(i, rands[i]))\n"
   ]
  },
  {
   "cell_type": "code",
   "execution_count": 45,
   "metadata": {},
   "outputs": [],
   "source": [
    "# write tabs that depend on i\n",
    "with open(fp_write, \"w+\") as file:\n",
    "    for i in range(len(rands)):\n",
    "        file.write(\"\\t\"*i + \"%s,%s\\n\"%(i, rands[i]))\n"
   ]
  },
  {
   "cell_type": "code",
   "execution_count": null,
   "metadata": {},
   "outputs": [],
   "source": [
    "#\n",
    "# note: if you don't use \"with\", that's OK, just remember to close the file stream\n",
    "# file = open(fp, type)\n",
    "# ** operattions heere **\n",
    "# file.close()\n",
    "#"
   ]
  }
 ],
 "metadata": {
  "kernelspec": {
   "display_name": "Python 3 (ipykernel)",
   "language": "python",
   "name": "python3"
  },
  "language_info": {
   "codemirror_mode": {
    "name": "ipython",
    "version": 3
   },
   "file_extension": ".py",
   "mimetype": "text/x-python",
   "name": "python",
   "nbconvert_exporter": "python",
   "pygments_lexer": "ipython3",
   "version": "3.11.8"
  }
 },
 "nbformat": 4,
 "nbformat_minor": 4
}
