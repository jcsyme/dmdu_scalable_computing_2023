{
 "cells": [
  {
   "cell_type": "code",
   "execution_count": 8,
   "metadata": {},
   "outputs": [],
   "source": [
    "import numpy as np\n",
    "import os, os.path\n",
    "\n",
    "\"\"\"\n",
    "dir_project = \"/Users/jsyme/Documents/Projects/git_jbus/dmdu_scalable_computing_2022\"\n",
    "dir_workbooks = os.path.join(dir_project, \"workbooks\")\n",
    "dir_joins = os.path.join(dir_workbooks, \"data_examples\", \"joins\")\n",
    "fp_read = os.path.join(dir_joins, \"costs_15.csv\")\n",
    "\"\"\"\n",
    "fp_read = \"/Users/jsyme/Desktop/untitled_15.txt\"# SET READ FILE PATH HERE\n",
    "fp_write = \"write_tmp.txt\"# SET WRITE FILE PATH HERE\n",
    "\n",
    "# some random numbers to write out\n",
    "rands = np.random.rand(15)\n"
   ]
  },
  {
   "cell_type": "code",
   "execution_count": 10,
   "metadata": {},
   "outputs": [
    {
     "name": "stdout",
     "output_type": "stream",
     "text": [
      "<class '_io.TextIOWrapper'>\n"
     ]
    }
   ],
   "source": [
    "file = open(fp_read, \"r\")\n",
    "str_lns = file.read()\n",
    "print(type(file))\n",
    "file.close()\n"
   ]
  },
  {
   "cell_type": "code",
   "execution_count": 3,
   "metadata": {},
   "outputs": [
    {
     "data": {
      "text/plain": [
       "112.6125"
      ]
     },
     "execution_count": 3,
     "metadata": {},
     "output_type": "execute_result"
    }
   ],
   "source": [
    "162162/1440\n"
   ]
  },
  {
   "cell_type": "markdown",
   "metadata": {},
   "source": [
    "##  different ways to read a file"
   ]
  },
  {
   "cell_type": "code",
   "execution_count": 29,
   "metadata": {},
   "outputs": [
    {
     "name": "stdout",
     "output_type": "stream",
     "text": [
      "This is a file\n",
      "Hola todos, me llamo james, como el futbolero\n",
      "Yo tengo $N_ANHO$ anhos y soy de $LOCATION$\n",
      "\n",
      "\n",
      "str_repl:\t$N_ANHO$\n",
      "val_repl:\t33\n",
      "\n",
      "This is a file\n",
      "Hola todos, me llamo james, como el futbolero\n",
      "Yo tengo 33 anhos y soy de $LOCATION$\n",
      "\n",
      "\n",
      "\n",
      "\n",
      "\n",
      "str_repl:\t$LOCATION$\n",
      "val_repl:\tBurque\n",
      "\n",
      "This is a file\n",
      "Hola todos, me llamo james, como el futbolero\n",
      "Yo tengo 33 anhos y soy de Burque\n",
      "\n",
      "\n",
      "\n",
      "\n",
      "\n"
     ]
    }
   ],
   "source": [
    "# read as a string\n",
    "\n",
    "with open(fp_read, \"r\") as file:\n",
    "    str_lns2 = file.read()\n",
    "# can turn it into a list of strings (each line) using .split()\n",
    "list_lns = str_lns2.split(\"\\n\")\n",
    "\n",
    "# imagine an iteration here\n",
    "dict_params = {\"N_ANHO\": 33, \"LOCATION\": \"Burque\"}\n",
    "\n",
    "str_out = str_lns2\n",
    "print(str_out)\n",
    "for k in dict_params.keys():\n",
    "    str_repl = f\"${k}$\"\n",
    "    val_repl = str(dict_params[k])\n",
    "    print(f\"str_repl:\\t{str_repl}\\nval_repl:\\t{val_repl}\\n\")\n",
    "    str_out = str_out.replace(str_repl, val_repl)\n",
    "    print(str_out)\n",
    "    print(\"\\n\\n\")\n",
    "\n",
    "lns_out = str_out.split(\"\\n\")\n"
   ]
  },
  {
   "cell_type": "code",
   "execution_count": 30,
   "metadata": {},
   "outputs": [],
   "source": [
    "with open(fp_write, \"w+\") as file:\n",
    "    file.writelines([str(x) for x in lns_out])"
   ]
  },
  {
   "cell_type": "code",
   "execution_count": 18,
   "metadata": {},
   "outputs": [],
   "source": [
    "# read all lines at once\n",
    "with open(fp_read, \"r\") as file:\n",
    "    vec_lns = file.readlines()\n"
   ]
  },
  {
   "cell_type": "code",
   "execution_count": 30,
   "metadata": {},
   "outputs": [
    {
     "name": "stdout",
     "output_type": "stream",
     "text": [
      "Read 1 lines\n",
      "Read 2 lines\n",
      "Read 3 lines\n",
      "Read 4 lines\n",
      "Read 5 lines\n",
      "Read 6 lines\n",
      "Read 7 lines\n"
     ]
    }
   ],
   "source": [
    "# count lines using loop\n",
    "with open(fp_read, \"r\") as file:\n",
    "    ln = file.readline()\n",
    "    i = 0\n",
    "    while ln != \"\":\n",
    "        i += 1\n",
    "        print(\"Read %s lines\"%(i))\n",
    "        ln = file.readline()\n",
    "        \n"
   ]
  },
  {
   "cell_type": "code",
   "execution_count": null,
   "metadata": {},
   "outputs": [],
   "source": []
  },
  {
   "cell_type": "code",
   "execution_count": 44,
   "metadata": {},
   "outputs": [
    {
     "data": {
      "text/plain": [
       "array([0.39617527, 0.47027867, 0.99685111, 0.40993867, 0.49931447,\n",
       "       0.75574263, 0.65147842, 0.05082454, 0.53568716, 0.5489267 ,\n",
       "       0.77655167, 0.80638865, 0.81765836, 0.22564659, 0.36244256])"
      ]
     },
     "execution_count": 44,
     "metadata": {},
     "output_type": "execute_result"
    }
   ],
   "source": [
    "rands"
   ]
  },
  {
   "cell_type": "code",
   "execution_count": 42,
   "metadata": {},
   "outputs": [
    {
     "data": {
      "text/plain": [
       "True"
      ]
     },
     "execution_count": 42,
     "metadata": {},
     "output_type": "execute_result"
    }
   ],
   "source": [
    "os.path.exists(fp_write)"
   ]
  },
  {
   "cell_type": "markdown",
   "metadata": {},
   "source": [
    "##  different ways to write a file"
   ]
  },
  {
   "cell_type": "code",
   "execution_count": 41,
   "metadata": {},
   "outputs": [],
   "source": [
    "# write all lines at once (use w+ to create/write; it will overwrite a file that exists)\n",
    "with open(fp_write, \"w+\") as file:\n",
    "    file.writelines([str(x) for x in rands])\n"
   ]
  },
  {
   "cell_type": "code",
   "execution_count": 43,
   "metadata": {},
   "outputs": [],
   "source": [
    "# write as a string with index (remember the new line character)\n",
    "with open(fp_write, \"w+\") as file:\n",
    "    for i in range(len(rands)):\n",
    "        file.write(\"%s,%s\\n\"%(i, rands[i]))\n"
   ]
  },
  {
   "cell_type": "code",
   "execution_count": 45,
   "metadata": {},
   "outputs": [],
   "source": [
    "# write tabs that depend on i\n",
    "with open(fp_write, \"w+\") as file:\n",
    "    for i in range(len(rands)):\n",
    "        file.write(\"\\t\"*i + \"%s,%s\\n\"%(i, rands[i]))\n"
   ]
  },
  {
   "cell_type": "code",
   "execution_count": null,
   "metadata": {},
   "outputs": [],
   "source": [
    "#\n",
    "# note: if you don't use \"with\", that's OK, just remember to close the file stream\n",
    "# file = open(fp, type)\n",
    "# ** operattions heere **\n",
    "# file.close()\n",
    "#"
   ]
  }
 ],
 "metadata": {
  "kernelspec": {
   "display_name": "Python 3 (ipykernel)",
   "language": "python",
   "name": "python3"
  },
  "language_info": {
   "codemirror_mode": {
    "name": "ipython",
    "version": 3
   },
   "file_extension": ".py",
   "mimetype": "text/x-python",
   "name": "python",
   "nbconvert_exporter": "python",
   "pygments_lexer": "ipython3",
   "version": "3.11.0"
  }
 },
 "nbformat": 4,
 "nbformat_minor": 4
}
