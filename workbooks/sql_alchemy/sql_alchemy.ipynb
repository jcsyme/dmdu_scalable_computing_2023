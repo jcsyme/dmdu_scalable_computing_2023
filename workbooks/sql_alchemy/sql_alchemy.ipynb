{
 "cells": [
  {
   "cell_type": "code",
   "execution_count": 223,
   "id": "3d7cb2f2-a648-4905-ab21-5ae67fe6b991",
   "metadata": {},
   "outputs": [],
   "source": [
    "import os, os.path\n",
    "import pandas as pd\n",
    "import re\n"
   ]
  },
  {
   "cell_type": "markdown",
   "id": "c162fb6d-e16d-416c-bb1a-74791a6d820d",
   "metadata": {},
   "source": [
    "# We are going to explore SQL Alchemy and Python\n",
    "\n",
    "- SQL Alchemy allows you to interact directly with local or remote SQL database services using an engine\n",
    "- Remote services often require setting up environment variables\n",
    "\n"
   ]
  },
  {
   "cell_type": "markdown",
   "id": "7a9defbf-e43d-4695-a672-b84e73e87381",
   "metadata": {},
   "source": [
    "###  New package: `pathlib`\n",
    "- Create POSIX paths as objects\n",
    "- Slightly cleaner than the `os.path` library for path management\n",
    "- If/when you encounter urls, you can similarly use `urllib`"
   ]
  },
  {
   "cell_type": "code",
   "execution_count": 224,
   "id": "332741a9-685e-4b58-a05a-02f21e4db1d1",
   "metadata": {},
   "outputs": [],
   "source": [
    "import pathlib"
   ]
  },
  {
   "cell_type": "code",
   "execution_count": 225,
   "id": "0126223a-fdd9-4022-8467-0db4013914b6",
   "metadata": {},
   "outputs": [],
   "source": [
    "# create a path in using the absolute path to present directory\n",
    "path_cur = pathlib.Path(os.path.abspath(\".\"))\n"
   ]
  },
  {
   "cell_type": "code",
   "execution_count": 43,
   "id": "69b4499d-38a0-421c-8554-491e806bcf78",
   "metadata": {},
   "outputs": [],
   "source": [
    "# join with elements using the .joinpath method\n",
    "# note: enter subdirectories sequentially as arguments\n",
    "path_tables = path_cur.joinpath(\"tables\")\n"
   ]
  },
  {
   "cell_type": "code",
   "execution_count": 231,
   "id": "464baf36-ce2b-48f5-a6c7-42cb2f7cb4dd",
   "metadata": {},
   "outputs": [
    {
     "data": {
      "text/plain": [
       "False"
      ]
     },
     "execution_count": 231,
     "metadata": {},
     "output_type": "execute_result"
    }
   ],
   "source": [
    "# check that it is a directoy\n",
    "path_tables2.is_dir()\n"
   ]
  },
  {
   "cell_type": "code",
   "execution_count": 227,
   "id": "90d4f1fe-68d0-49a5-9df1-73f15a3cda42",
   "metadata": {},
   "outputs": [
    {
     "data": {
      "text/plain": [
       "False"
      ]
     },
     "execution_count": 227,
     "metadata": {},
     "output_type": "execute_result"
    }
   ],
   "source": [
    "# check that it is a file\n",
    "path_tables.is_file()\n"
   ]
  },
  {
   "cell_type": "markdown",
   "id": "56b91a4c-8aa8-4b06-a13b-5fd3a758d415",
   "metadata": {},
   "source": [
    "##  Let's explore SQLAlchemy a bit\n",
    "\n",
    "- Imported using `sqlalchemy`\n",
    "- We can read and interact with an existing database easily, including:\n",
    "    - Local SQLite databases\n",
    "    - Remote services like Snowflake, Google, Microsoft, and Amazon\n",
    "        - These services often require a username, access key (region, secret access key, secret key, etc.) to connect\n",
    "        - These can be set in the environment or in configuration files\n",
    "        - One note: **NEVER** save your access keys directly to a jupyter notebook or file in a repository. Place them elsewhere, somewhere inaccessible (or less accessible at the least) by remote actors\n",
    "- Learn more [about SQLAlchemy](https://www.sqlalchemy.org/)\n",
    "  "
   ]
  },
  {
   "cell_type": "code",
   "execution_count": 232,
   "id": "b6bfb29b-1c84-4b58-ac58-7e320b26d1cf",
   "metadata": {},
   "outputs": [],
   "source": [
    "import sqlalchemy"
   ]
  },
  {
   "cell_type": "code",
   "execution_count": 233,
   "id": "274b024f-3685-4c84-96a6-e162b8af41be",
   "metadata": {},
   "outputs": [],
   "source": [
    "# path to the database\n",
    "path_demo = path_cur.joinpath(\"intermediate_database.sqlite\")\n",
    "\n"
   ]
  },
  {
   "cell_type": "code",
   "execution_count": 45,
   "id": "8a5ed72e-80e2-4323-a4c3-c8c3eb4c5351",
   "metadata": {},
   "outputs": [],
   "source": [
    "# TODO: verify that the path exists\n"
   ]
  },
  {
   "cell_type": "markdown",
   "id": "8dc892f7-87a5-4bd1-9fef-cc17f7acf161",
   "metadata": {},
   "source": [
    "###  SQL Alchemy uses the `Engine` object to connect to a database\n",
    "\n",
    "- Engines are created using the `.create_engine()` function\n",
    "- The engine can create connections to the database and execute queries\n",
    "- For SQLite, we create an engine using the `sqlite:///` notation as an argument to `sqlalchemy.create_engine`\n",
    "    - E.g., `fp = \"PATH/TO/DB.sqlite\"`, `sqlalchemy.create_engine(f\"sqlite:///{fp}\")` "
   ]
  },
  {
   "cell_type": "code",
   "execution_count": 234,
   "id": "6096aaa6-61c5-46b1-9f0d-c5431eee4b9a",
   "metadata": {},
   "outputs": [],
   "source": [
    "engine = sqlalchemy.create_engine(f\"sqlite:///{path_demo}\")"
   ]
  },
  {
   "cell_type": "code",
   "execution_count": 235,
   "id": "a9ed1bde-f5e0-4c53-9746-bc6b1508e9f8",
   "metadata": {},
   "outputs": [],
   "source": [
    "# use an Inspector object to check the engine\n",
    "inspector = sqlalchemy.inspect(engine)"
   ]
  },
  {
   "cell_type": "code",
   "execution_count": 236,
   "id": "1270fa99-e0a5-40c1-9c47-b9f5185ec9a1",
   "metadata": {},
   "outputs": [
    {
     "data": {
      "text/plain": [
       "['AccumulatedAnnualDemand',\n",
       " 'AnnualEmissionLimit',\n",
       " 'AnnualExogenousEmission',\n",
       " 'AvailabilityFactor',\n",
       " 'CapacityOfOneTechnologyUnit',\n",
       " 'CapacityToActivityUnit',\n",
       " 'CapitalCost',\n",
       " 'CapitalCostStorage',\n",
       " 'DefaultParams',\n",
       " 'DepreciationMethod',\n",
       " 'DiscountRate',\n",
       " 'EMISSION',\n",
       " 'EmissionActivityRatio',\n",
       " 'EmissionsPenalty',\n",
       " 'FUEL',\n",
       " 'FixedCost',\n",
       " 'InputActivityRatio',\n",
       " 'InterestRateStorage',\n",
       " 'InterestRateTechnology',\n",
       " 'LTsGroup',\n",
       " 'MODE_OF_OPERATION',\n",
       " 'MinShareProduction',\n",
       " 'MinStorageCharge',\n",
       " 'MinimumUtilization',\n",
       " 'ModelPeriodEmissionLimit',\n",
       " 'ModelPeriodExogenousEmission',\n",
       " 'NODE',\n",
       " 'NodalDistributionDemand',\n",
       " 'NodalDistributionStorageCapacity',\n",
       " 'NodalDistributionTechnologyCapacity',\n",
       " 'OperationalLife',\n",
       " 'OperationalLifeStorage',\n",
       " 'OutputActivityRatio',\n",
       " 'REGION',\n",
       " 'REGIONGROUP',\n",
       " 'REMinProductionTarget',\n",
       " 'REMinProductionTargetRG',\n",
       " 'RETagTechnology',\n",
       " 'RRGroup',\n",
       " 'RampRate',\n",
       " 'RampingReset',\n",
       " 'ReserveMargin',\n",
       " 'ReserveMarginTagFuel',\n",
       " 'ReserveMarginTagTechnology',\n",
       " 'ResidualCapacity',\n",
       " 'ResidualStorageCapacity',\n",
       " 'STORAGE',\n",
       " 'SpecifiedAnnualDemand',\n",
       " 'SpecifiedDemandProfile',\n",
       " 'StorageFullLoadHours',\n",
       " 'StorageLevelStart',\n",
       " 'StorageMaxChargeRate',\n",
       " 'StorageMaxDischargeRate',\n",
       " 'TECHNOLOGY',\n",
       " 'TIMESLICE',\n",
       " 'TSGROUP1',\n",
       " 'TSGROUP2',\n",
       " 'TechnologyFromStorage',\n",
       " 'TechnologyToStorage',\n",
       " 'TotalAnnualMaxCapacity',\n",
       " 'TotalAnnualMaxCapacityInvestment',\n",
       " 'TotalAnnualMaxCapacityInvestmentStorage',\n",
       " 'TotalAnnualMaxCapacityStorage',\n",
       " 'TotalAnnualMinCapacity',\n",
       " 'TotalAnnualMinCapacityInvestment',\n",
       " 'TotalAnnualMinCapacityInvestmentStorage',\n",
       " 'TotalAnnualMinCapacityStorage',\n",
       " 'TotalTechnologyAnnualActivityLowerLimit',\n",
       " 'TotalTechnologyAnnualActivityUpperLimit',\n",
       " 'TotalTechnologyModelPeriodActivityLowerLimit',\n",
       " 'TotalTechnologyModelPeriodActivityUpperLimit',\n",
       " 'TradeRoute',\n",
       " 'TransmissionAvailabilityFactor',\n",
       " 'TransmissionCapacityToActivityUnit',\n",
       " 'TransmissionLine',\n",
       " 'TransmissionModelingEnabled',\n",
       " 'VariableCost',\n",
       " 'Version',\n",
       " 'YEAR',\n",
       " 'YearSplit']"
      ]
     },
     "execution_count": 236,
     "metadata": {},
     "output_type": "execute_result"
    }
   ],
   "source": [
    "# let's see the table names\n",
    "inspector.get_table_names()\n"
   ]
  },
  {
   "cell_type": "code",
   "execution_count": 237,
   "id": "869be002-3a2d-4d8b-9137-633f9ef894fe",
   "metadata": {},
   "outputs": [],
   "source": [
    "# let's try running a query. Pull the EMISSION table\n",
    "query = \"SELECT * FROM EMISSION;\""
   ]
  },
  {
   "cell_type": "code",
   "execution_count": 238,
   "id": "acf6e038-087f-467e-8cf1-d473c7619aa4",
   "metadata": {},
   "outputs": [
    {
     "ename": "ObjectNotExecutableError",
     "evalue": "Not an executable object: 'SELECT * FROM EMISSION;'",
     "output_type": "error",
     "traceback": [
      "\u001b[0;31m---------------------------------------------------------------------------\u001b[0m",
      "\u001b[0;31mAttributeError\u001b[0m                            Traceback (most recent call last)",
      "File \u001b[0;32m/opt/miniconda3/envs/amber_is_your_energy/lib/python3.11/site-packages/sqlalchemy/engine/base.py:1412\u001b[0m, in \u001b[0;36mConnection.execute\u001b[0;34m(self, statement, parameters, execution_options)\u001b[0m\n\u001b[1;32m   1411\u001b[0m \u001b[38;5;28;01mtry\u001b[39;00m:\n\u001b[0;32m-> 1412\u001b[0m     meth \u001b[38;5;241m=\u001b[39m \u001b[43mstatement\u001b[49m\u001b[38;5;241;43m.\u001b[39;49m\u001b[43m_execute_on_connection\u001b[49m\n\u001b[1;32m   1413\u001b[0m \u001b[38;5;28;01mexcept\u001b[39;00m \u001b[38;5;167;01mAttributeError\u001b[39;00m \u001b[38;5;28;01mas\u001b[39;00m err:\n",
      "\u001b[0;31mAttributeError\u001b[0m: 'str' object has no attribute '_execute_on_connection'",
      "\nThe above exception was the direct cause of the following exception:\n",
      "\u001b[0;31mObjectNotExecutableError\u001b[0m                  Traceback (most recent call last)",
      "Cell \u001b[0;32mIn[238], line 4\u001b[0m\n\u001b[1;32m      1\u001b[0m \u001b[38;5;66;03m# open a connection - use with block to avoid issues with closing connection when done with transactions\u001b[39;00m\n\u001b[1;32m      2\u001b[0m \u001b[38;5;66;03m# try executing the query. What happens?\u001b[39;00m\n\u001b[1;32m      3\u001b[0m \u001b[38;5;28;01mwith\u001b[39;00m engine\u001b[38;5;241m.\u001b[39mconnect() \u001b[38;5;28;01mas\u001b[39;00m con:\n\u001b[0;32m----> 4\u001b[0m     result \u001b[38;5;241m=\u001b[39m \u001b[43mcon\u001b[49m\u001b[38;5;241;43m.\u001b[39;49m\u001b[43mexecute\u001b[49m\u001b[43m(\u001b[49m\u001b[43mquery\u001b[49m\u001b[43m)\u001b[49m\n",
      "File \u001b[0;32m/opt/miniconda3/envs/amber_is_your_energy/lib/python3.11/site-packages/sqlalchemy/engine/base.py:1414\u001b[0m, in \u001b[0;36mConnection.execute\u001b[0;34m(self, statement, parameters, execution_options)\u001b[0m\n\u001b[1;32m   1412\u001b[0m     meth \u001b[38;5;241m=\u001b[39m statement\u001b[38;5;241m.\u001b[39m_execute_on_connection\n\u001b[1;32m   1413\u001b[0m \u001b[38;5;28;01mexcept\u001b[39;00m \u001b[38;5;167;01mAttributeError\u001b[39;00m \u001b[38;5;28;01mas\u001b[39;00m err:\n\u001b[0;32m-> 1414\u001b[0m     \u001b[38;5;28;01mraise\u001b[39;00m exc\u001b[38;5;241m.\u001b[39mObjectNotExecutableError(statement) \u001b[38;5;28;01mfrom\u001b[39;00m \u001b[38;5;21;01merr\u001b[39;00m\n\u001b[1;32m   1415\u001b[0m \u001b[38;5;28;01melse\u001b[39;00m:\n\u001b[1;32m   1416\u001b[0m     \u001b[38;5;28;01mreturn\u001b[39;00m meth(\n\u001b[1;32m   1417\u001b[0m         \u001b[38;5;28mself\u001b[39m,\n\u001b[1;32m   1418\u001b[0m         distilled_parameters,\n\u001b[1;32m   1419\u001b[0m         execution_options \u001b[38;5;129;01mor\u001b[39;00m NO_OPTIONS,\n\u001b[1;32m   1420\u001b[0m     )\n",
      "\u001b[0;31mObjectNotExecutableError\u001b[0m: Not an executable object: 'SELECT * FROM EMISSION;'"
     ]
    }
   ],
   "source": [
    "# open a connection - use with block to avoid issues with closing connection when done with transactions\n",
    "# try executing the query. What happens?\n",
    "with engine.connect() as con:\n",
    "    result = con.execute(query)"
   ]
  },
  {
   "cell_type": "code",
   "execution_count": 239,
   "id": "fe9f6394-a5d2-4aac-ac84-5ef31b20f325",
   "metadata": {},
   "outputs": [
    {
     "data": {
      "text/plain": [
       "\u001b[0;31mType:\u001b[0m        TextClause\n",
       "\u001b[0;31mString form:\u001b[0m SELECT * FROM EMISSION;\n",
       "\u001b[0;31mFile:\u001b[0m        /opt/miniconda3/envs/amber_is_your_energy/lib/python3.11/site-packages/sqlalchemy/sql/elements.py\n",
       "\u001b[0;31mDocstring:\u001b[0m  \n",
       "Represent a literal SQL text fragment.\n",
       "\n",
       "E.g.::\n",
       "\n",
       "    from sqlalchemy import text\n",
       "\n",
       "    t = text(\"SELECT * FROM users\")\n",
       "    result = connection.execute(t)\n",
       "\n",
       "The :class:`_expression.TextClause` construct is produced using the\n",
       ":func:`_expression.text`\n",
       "function; see that function for full documentation.\n",
       "\n",
       ".. seealso::\n",
       "\n",
       "    :func:`_expression.text`"
      ]
     },
     "metadata": {},
     "output_type": "display_data"
    }
   ],
   "source": [
    "# SQLAlchemy requires you to convert the query to an sqlalchemy.text type\n",
    "query_text = sqlalchemy.text(query)\n",
    "?query_text"
   ]
  },
  {
   "cell_type": "code",
   "execution_count": 240,
   "id": "cde36e39-abf1-47e7-a1d9-6e882589523f",
   "metadata": {},
   "outputs": [],
   "source": [
    "# we can execute a simple query here\n",
    "with engine.connect() as con:\n",
    "    result = con.execute(sqlalchemy.text(query))"
   ]
  },
  {
   "cell_type": "code",
   "execution_count": 241,
   "id": "e0cb4468-1863-49f9-9809-a4c6547cb73c",
   "metadata": {},
   "outputs": [
    {
     "data": {
      "text/plain": [
       "<sqlalchemy.engine.cursor.CursorResult at 0x131d6e6d0>"
      ]
     },
     "execution_count": 241,
     "metadata": {},
     "output_type": "execute_result"
    }
   ],
   "source": [
    "result"
   ]
  },
  {
   "cell_type": "code",
   "execution_count": 242,
   "id": "b8eec9ef-87c3-4789-9ef7-6bffdc2a3fea",
   "metadata": {},
   "outputs": [
    {
     "name": "stdout",
     "output_type": "stream",
     "text": [
      "('c2f6', 'Perfluoroethane (PFC-116)')\n",
      "('c2h3f3', '1,1,1-Trifluoroethane (HFC-143a)')\n",
      "('c2hf5', 'Pentafluoroethane (HFC-125)')\n",
      "('c3f8', 'Perfluoropropane (PFC-218)')\n",
      "('c3h2f6', '1,1,1,3,3,3-Hexafluoropropane (HFC-236fa)')\n",
      "('c3h3f5', 'Pentafluoropropane (HFC-245fa)')\n",
      "('c3hf7', '1,1,1,2,3,3,3-Heptafluoropropane (HFC-227ea)')\n",
      "('c4f10', 'Perflubutane/Decafluorobutane (PFC-31-10)')\n",
      "('c4f6', 'Hexafluorobutadiene (PFC-1114)')\n",
      "('c4f8o', 'Octafluorooxolane/Octafluorotetrahydrofuran')\n",
      "('c4h5f5', '1,1,1,3,3-Pentafluorobutane (HFC-365mfc)')\n",
      "('c5f12', 'Dodecafluoropentane')\n",
      "('c5f8', 'Octafluorocyclopentene (PFC-C-1418)')\n",
      "('c5h2f10', '2,3-Dihydrodeca-fluoropentane (HFC-43-10mee)')\n",
      "('c6f14', 'Perfluorohexane/Tetradecafluorohexane (PFC-51-14)')\n",
      "('c7f16', 'Hexadecafluoroheptane')\n",
      "('c8f18', 'Octadecafluorooctane')\n",
      "('cc4f8', 'Perfluorocyclobutane (PFC-C-318)')\n",
      "('cf4', 'Perfluoromethane (PFC-14)')\n",
      "('ch2f2', 'Difluoromethane (HFC-32)')\n",
      "('ch2fch2f', '1,2-Difluoroethane (HFC-152)')\n",
      "('ch2fchf2', '1,1,2-Trifluoroethane (HFC-143)')\n",
      "('ch3cci2f', '1,1-Dichloro-1-fluoroethane (HCFC-141b)')\n",
      "('ch3ccif2', '1-Chloro-1,1-difluoroethane (HCFC-142b)')\n",
      "('ch3chf2', '1,1-Difluoroethane (HFC-152a)')\n",
      "('ch3f', 'Fluoromethane (HFC-41)')\n",
      "('ch4', 'Methane')\n",
      "('chf2cf3', '1,1,1,2-Tetrafluoroethane (HFC-134a)')\n",
      "('chf2chf2', '1,1,2,2-Tetrafluoroethane (HFC-134)')\n",
      "('chf3', 'Trifluoromethane (HFC-23)')\n",
      "('co2', 'Carbon Dioxide')\n",
      "('n2o', 'Nitrus Oxide')\n",
      "('nf3', 'Nitrogen Trifluoride')\n",
      "('sf6', 'Sulfur Hexflouride')\n"
     ]
    }
   ],
   "source": [
    "# the result of a \"SELECT\" can be used to iterate through returns. What are they?\n",
    "for row in result:\n",
    "    print(row)"
   ]
  },
  {
   "cell_type": "markdown",
   "id": "decdbd90-bdec-403a-9e08-8d32f0dc5a01",
   "metadata": {},
   "source": [
    "###  Once we see a table, we can get information about the schema\n",
    "\n",
    "Different SQL DBMS have slightly different approaches--for SQLite, we can use:\n",
    "- `PRAGMA table_info(TABLE_NAME);`\n",
    "- `SELECT sql FROM sqlite_schema WHERE name='TABLE_NAME';`\n",
    "\n",
    "**Try both of these queries. What do you notice about the difference?**"
   ]
  },
  {
   "cell_type": "code",
   "execution_count": 251,
   "id": "6cfe937a-69de-4fe9-8db7-db86ff6177a8",
   "metadata": {},
   "outputs": [],
   "source": [
    "TABLE_NAME = \"EMISSION\"\n",
    "with engine.connect() as con:\n",
    "    schema_result = con.execute(\n",
    "        #sqlalchemy.text(f\"PRAGMA table_info({TABLE_NAME});\")\n",
    "        sqlalchemy.text(f\"SELECT sql FROM sqlite_schema WHERE name='{TABLE_NAME}'\")\n",
    "    )"
   ]
  },
  {
   "cell_type": "code",
   "execution_count": 252,
   "id": "1b132d24-31a2-4730-8606-4041145dc73d",
   "metadata": {},
   "outputs": [
    {
     "name": "stdout",
     "output_type": "stream",
     "text": [
      "('CREATE TABLE `EMISSION` ( `val` TEXT NOT NULL UNIQUE, `desc` TEXT, PRIMARY KEY(`val`) )',)\n"
     ]
    }
   ],
   "source": [
    "for row in schema_result:\n",
    "    print(row)"
   ]
  },
  {
   "cell_type": "markdown",
   "id": "3564ea33-935a-4b79-b7e9-8e5a95cb5dad",
   "metadata": {},
   "source": [
    "###  For retrievals (`SELECT`), we can use built in functionality from Pandas to call tables as DataFrames\n",
    "- Use `pd.read_sql_query(query, connection)`"
   ]
  },
  {
   "cell_type": "code",
   "execution_count": 253,
   "id": "b7d65c7c-737e-4d94-9aa7-7498fd3a6bed",
   "metadata": {},
   "outputs": [
    {
     "data": {
      "text/html": [
       "<div>\n",
       "<style scoped>\n",
       "    .dataframe tbody tr th:only-of-type {\n",
       "        vertical-align: middle;\n",
       "    }\n",
       "\n",
       "    .dataframe tbody tr th {\n",
       "        vertical-align: top;\n",
       "    }\n",
       "\n",
       "    .dataframe thead th {\n",
       "        text-align: right;\n",
       "    }\n",
       "</style>\n",
       "<table border=\"1\" class=\"dataframe\">\n",
       "  <thead>\n",
       "    <tr style=\"text-align: right;\">\n",
       "      <th></th>\n",
       "      <th>val</th>\n",
       "      <th>desc</th>\n",
       "    </tr>\n",
       "  </thead>\n",
       "  <tbody>\n",
       "    <tr>\n",
       "      <th>0</th>\n",
       "      <td>c2f6</td>\n",
       "      <td>Perfluoroethane (PFC-116)</td>\n",
       "    </tr>\n",
       "    <tr>\n",
       "      <th>1</th>\n",
       "      <td>c2h3f3</td>\n",
       "      <td>1,1,1-Trifluoroethane (HFC-143a)</td>\n",
       "    </tr>\n",
       "    <tr>\n",
       "      <th>2</th>\n",
       "      <td>c2hf5</td>\n",
       "      <td>Pentafluoroethane (HFC-125)</td>\n",
       "    </tr>\n",
       "    <tr>\n",
       "      <th>3</th>\n",
       "      <td>c3f8</td>\n",
       "      <td>Perfluoropropane (PFC-218)</td>\n",
       "    </tr>\n",
       "    <tr>\n",
       "      <th>4</th>\n",
       "      <td>c3h2f6</td>\n",
       "      <td>1,1,1,3,3,3-Hexafluoropropane (HFC-236fa)</td>\n",
       "    </tr>\n",
       "    <tr>\n",
       "      <th>5</th>\n",
       "      <td>c3h3f5</td>\n",
       "      <td>Pentafluoropropane (HFC-245fa)</td>\n",
       "    </tr>\n",
       "    <tr>\n",
       "      <th>6</th>\n",
       "      <td>c3hf7</td>\n",
       "      <td>1,1,1,2,3,3,3-Heptafluoropropane (HFC-227ea)</td>\n",
       "    </tr>\n",
       "    <tr>\n",
       "      <th>7</th>\n",
       "      <td>c4f10</td>\n",
       "      <td>Perflubutane/Decafluorobutane (PFC-31-10)</td>\n",
       "    </tr>\n",
       "    <tr>\n",
       "      <th>8</th>\n",
       "      <td>c4f6</td>\n",
       "      <td>Hexafluorobutadiene (PFC-1114)</td>\n",
       "    </tr>\n",
       "    <tr>\n",
       "      <th>9</th>\n",
       "      <td>c4f8o</td>\n",
       "      <td>Octafluorooxolane/Octafluorotetrahydrofuran</td>\n",
       "    </tr>\n",
       "    <tr>\n",
       "      <th>10</th>\n",
       "      <td>c4h5f5</td>\n",
       "      <td>1,1,1,3,3-Pentafluorobutane (HFC-365mfc)</td>\n",
       "    </tr>\n",
       "    <tr>\n",
       "      <th>11</th>\n",
       "      <td>c5f12</td>\n",
       "      <td>Dodecafluoropentane</td>\n",
       "    </tr>\n",
       "    <tr>\n",
       "      <th>12</th>\n",
       "      <td>c5f8</td>\n",
       "      <td>Octafluorocyclopentene (PFC-C-1418)</td>\n",
       "    </tr>\n",
       "    <tr>\n",
       "      <th>13</th>\n",
       "      <td>c5h2f10</td>\n",
       "      <td>2,3-Dihydrodeca-fluoropentane (HFC-43-10mee)</td>\n",
       "    </tr>\n",
       "    <tr>\n",
       "      <th>14</th>\n",
       "      <td>c6f14</td>\n",
       "      <td>Perfluorohexane/Tetradecafluorohexane (PFC-51-14)</td>\n",
       "    </tr>\n",
       "    <tr>\n",
       "      <th>15</th>\n",
       "      <td>c7f16</td>\n",
       "      <td>Hexadecafluoroheptane</td>\n",
       "    </tr>\n",
       "    <tr>\n",
       "      <th>16</th>\n",
       "      <td>c8f18</td>\n",
       "      <td>Octadecafluorooctane</td>\n",
       "    </tr>\n",
       "    <tr>\n",
       "      <th>17</th>\n",
       "      <td>cc4f8</td>\n",
       "      <td>Perfluorocyclobutane (PFC-C-318)</td>\n",
       "    </tr>\n",
       "    <tr>\n",
       "      <th>18</th>\n",
       "      <td>cf4</td>\n",
       "      <td>Perfluoromethane (PFC-14)</td>\n",
       "    </tr>\n",
       "    <tr>\n",
       "      <th>19</th>\n",
       "      <td>ch2f2</td>\n",
       "      <td>Difluoromethane (HFC-32)</td>\n",
       "    </tr>\n",
       "    <tr>\n",
       "      <th>20</th>\n",
       "      <td>ch2fch2f</td>\n",
       "      <td>1,2-Difluoroethane (HFC-152)</td>\n",
       "    </tr>\n",
       "    <tr>\n",
       "      <th>21</th>\n",
       "      <td>ch2fchf2</td>\n",
       "      <td>1,1,2-Trifluoroethane (HFC-143)</td>\n",
       "    </tr>\n",
       "    <tr>\n",
       "      <th>22</th>\n",
       "      <td>ch3cci2f</td>\n",
       "      <td>1,1-Dichloro-1-fluoroethane (HCFC-141b)</td>\n",
       "    </tr>\n",
       "    <tr>\n",
       "      <th>23</th>\n",
       "      <td>ch3ccif2</td>\n",
       "      <td>1-Chloro-1,1-difluoroethane (HCFC-142b)</td>\n",
       "    </tr>\n",
       "    <tr>\n",
       "      <th>24</th>\n",
       "      <td>ch3chf2</td>\n",
       "      <td>1,1-Difluoroethane (HFC-152a)</td>\n",
       "    </tr>\n",
       "    <tr>\n",
       "      <th>25</th>\n",
       "      <td>ch3f</td>\n",
       "      <td>Fluoromethane (HFC-41)</td>\n",
       "    </tr>\n",
       "    <tr>\n",
       "      <th>26</th>\n",
       "      <td>ch4</td>\n",
       "      <td>Methane</td>\n",
       "    </tr>\n",
       "    <tr>\n",
       "      <th>27</th>\n",
       "      <td>chf2cf3</td>\n",
       "      <td>1,1,1,2-Tetrafluoroethane (HFC-134a)</td>\n",
       "    </tr>\n",
       "    <tr>\n",
       "      <th>28</th>\n",
       "      <td>chf2chf2</td>\n",
       "      <td>1,1,2,2-Tetrafluoroethane (HFC-134)</td>\n",
       "    </tr>\n",
       "    <tr>\n",
       "      <th>29</th>\n",
       "      <td>chf3</td>\n",
       "      <td>Trifluoromethane (HFC-23)</td>\n",
       "    </tr>\n",
       "    <tr>\n",
       "      <th>30</th>\n",
       "      <td>co2</td>\n",
       "      <td>Carbon Dioxide</td>\n",
       "    </tr>\n",
       "    <tr>\n",
       "      <th>31</th>\n",
       "      <td>n2o</td>\n",
       "      <td>Nitrus Oxide</td>\n",
       "    </tr>\n",
       "    <tr>\n",
       "      <th>32</th>\n",
       "      <td>nf3</td>\n",
       "      <td>Nitrogen Trifluoride</td>\n",
       "    </tr>\n",
       "    <tr>\n",
       "      <th>33</th>\n",
       "      <td>sf6</td>\n",
       "      <td>Sulfur Hexflouride</td>\n",
       "    </tr>\n",
       "  </tbody>\n",
       "</table>\n",
       "</div>"
      ],
      "text/plain": [
       "         val                                               desc\n",
       "0       c2f6                          Perfluoroethane (PFC-116)\n",
       "1     c2h3f3                   1,1,1-Trifluoroethane (HFC-143a)\n",
       "2      c2hf5                        Pentafluoroethane (HFC-125)\n",
       "3       c3f8                         Perfluoropropane (PFC-218)\n",
       "4     c3h2f6          1,1,1,3,3,3-Hexafluoropropane (HFC-236fa)\n",
       "5     c3h3f5                     Pentafluoropropane (HFC-245fa)\n",
       "6      c3hf7       1,1,1,2,3,3,3-Heptafluoropropane (HFC-227ea)\n",
       "7      c4f10          Perflubutane/Decafluorobutane (PFC-31-10)\n",
       "8       c4f6                     Hexafluorobutadiene (PFC-1114)\n",
       "9      c4f8o        Octafluorooxolane/Octafluorotetrahydrofuran\n",
       "10    c4h5f5           1,1,1,3,3-Pentafluorobutane (HFC-365mfc)\n",
       "11     c5f12                                Dodecafluoropentane\n",
       "12      c5f8                Octafluorocyclopentene (PFC-C-1418)\n",
       "13   c5h2f10       2,3-Dihydrodeca-fluoropentane (HFC-43-10mee)\n",
       "14     c6f14  Perfluorohexane/Tetradecafluorohexane (PFC-51-14)\n",
       "15     c7f16                              Hexadecafluoroheptane\n",
       "16     c8f18                               Octadecafluorooctane\n",
       "17     cc4f8                   Perfluorocyclobutane (PFC-C-318)\n",
       "18       cf4                          Perfluoromethane (PFC-14)\n",
       "19     ch2f2                           Difluoromethane (HFC-32)\n",
       "20  ch2fch2f                       1,2-Difluoroethane (HFC-152)\n",
       "21  ch2fchf2                    1,1,2-Trifluoroethane (HFC-143)\n",
       "22  ch3cci2f            1,1-Dichloro-1-fluoroethane (HCFC-141b)\n",
       "23  ch3ccif2            1-Chloro-1,1-difluoroethane (HCFC-142b)\n",
       "24   ch3chf2                      1,1-Difluoroethane (HFC-152a)\n",
       "25      ch3f                             Fluoromethane (HFC-41)\n",
       "26       ch4                                            Methane\n",
       "27   chf2cf3               1,1,1,2-Tetrafluoroethane (HFC-134a)\n",
       "28  chf2chf2                1,1,2,2-Tetrafluoroethane (HFC-134)\n",
       "29      chf3                          Trifluoromethane (HFC-23)\n",
       "30       co2                                     Carbon Dioxide\n",
       "31       n2o                                       Nitrus Oxide\n",
       "32       nf3                               Nitrogen Trifluoride\n",
       "33       sf6                                 Sulfur Hexflouride"
      ]
     },
     "execution_count": 253,
     "metadata": {},
     "output_type": "execute_result"
    }
   ],
   "source": [
    "with engine.connect() as con:\n",
    "    df_out = pd.read_sql_query(query, con)\n",
    "    \n",
    "df_out"
   ]
  },
  {
   "cell_type": "markdown",
   "id": "9b97c8ea-732f-4187-8df7-76974a376a7e",
   "metadata": {},
   "source": [
    "# Now, let's add a table to the database"
   ]
  },
  {
   "cell_type": "code",
   "execution_count": 254,
   "id": "11a50345-a819-4255-8a6b-a3eaf2038582",
   "metadata": {},
   "outputs": [],
   "source": [
    "# read in one of the tables from \n",
    "table_name = \"ATTRIBUTE_PRIMARY\"\n",
    "df_to_write = pd.read_csv(path_tables.joinpath(f\"{table_name}.csv\"))"
   ]
  },
  {
   "cell_type": "code",
   "execution_count": 256,
   "id": "267f6d1e-5fd4-488a-9b55-6c76b9c408e4",
   "metadata": {},
   "outputs": [
    {
     "data": {
      "text/plain": [
       "False"
      ]
     },
     "execution_count": 256,
     "metadata": {},
     "output_type": "execute_result"
    }
   ],
   "source": [
    "table_name in sqlalchemy.inspect(engine).get_table_names()"
   ]
  },
  {
   "cell_type": "code",
   "execution_count": 257,
   "id": "33900565-c3ad-4d46-80c7-587eb84dfbd8",
   "metadata": {},
   "outputs": [],
   "source": [
    "# we can use the pd.to_sql function to write to the database\n",
    "df_to_write.to_sql(\n",
    "    table_name, \n",
    "    engine, \n",
    "    if_exists = \"replace\", \n",
    "    index = None,\n",
    ");\n"
   ]
  },
  {
   "cell_type": "code",
   "execution_count": 258,
   "id": "66a587fe-b38e-45dc-90ee-de51acfeb4f6",
   "metadata": {},
   "outputs": [
    {
     "data": {
      "text/plain": [
       "True"
      ]
     },
     "execution_count": 258,
     "metadata": {},
     "output_type": "execute_result"
    }
   ],
   "source": [
    "# did it succeed?\n",
    "table_name in sqlalchemy.inspect(engine).get_table_names()"
   ]
  },
  {
   "cell_type": "code",
   "execution_count": 259,
   "id": "2fd903fd-cddb-40f4-979f-952afa177b3e",
   "metadata": {},
   "outputs": [
    {
     "data": {
      "text/html": [
       "<div>\n",
       "<style scoped>\n",
       "    .dataframe tbody tr th:only-of-type {\n",
       "        vertical-align: middle;\n",
       "    }\n",
       "\n",
       "    .dataframe tbody tr th {\n",
       "        vertical-align: top;\n",
       "    }\n",
       "\n",
       "    .dataframe thead th {\n",
       "        text-align: right;\n",
       "    }\n",
       "</style>\n",
       "<table border=\"1\" class=\"dataframe\">\n",
       "  <thead>\n",
       "    <tr style=\"text-align: right;\">\n",
       "      <th></th>\n",
       "      <th>primary_id</th>\n",
       "      <th>design_id</th>\n",
       "      <th>strategy_id</th>\n",
       "      <th>future_id</th>\n",
       "    </tr>\n",
       "  </thead>\n",
       "  <tbody>\n",
       "    <tr>\n",
       "      <th>0</th>\n",
       "      <td>0</td>\n",
       "      <td>0</td>\n",
       "      <td>0</td>\n",
       "      <td>0</td>\n",
       "    </tr>\n",
       "    <tr>\n",
       "      <th>1</th>\n",
       "      <td>40</td>\n",
       "      <td>0</td>\n",
       "      <td>0</td>\n",
       "      <td>40</td>\n",
       "    </tr>\n",
       "    <tr>\n",
       "      <th>2</th>\n",
       "      <td>14014</td>\n",
       "      <td>0</td>\n",
       "      <td>1014</td>\n",
       "      <td>0</td>\n",
       "    </tr>\n",
       "    <tr>\n",
       "      <th>3</th>\n",
       "      <td>14054</td>\n",
       "      <td>0</td>\n",
       "      <td>1014</td>\n",
       "      <td>40</td>\n",
       "    </tr>\n",
       "    <tr>\n",
       "      <th>4</th>\n",
       "      <td>118118</td>\n",
       "      <td>0</td>\n",
       "      <td>5001</td>\n",
       "      <td>0</td>\n",
       "    </tr>\n",
       "    <tr>\n",
       "      <th>5</th>\n",
       "      <td>118158</td>\n",
       "      <td>0</td>\n",
       "      <td>5001</td>\n",
       "      <td>40</td>\n",
       "    </tr>\n",
       "    <tr>\n",
       "      <th>6</th>\n",
       "      <td>121121</td>\n",
       "      <td>0</td>\n",
       "      <td>5004</td>\n",
       "      <td>0</td>\n",
       "    </tr>\n",
       "    <tr>\n",
       "      <th>7</th>\n",
       "      <td>121161</td>\n",
       "      <td>0</td>\n",
       "      <td>5004</td>\n",
       "      <td>40</td>\n",
       "    </tr>\n",
       "    <tr>\n",
       "      <th>8</th>\n",
       "      <td>123123</td>\n",
       "      <td>0</td>\n",
       "      <td>5006</td>\n",
       "      <td>0</td>\n",
       "    </tr>\n",
       "    <tr>\n",
       "      <th>9</th>\n",
       "      <td>123163</td>\n",
       "      <td>0</td>\n",
       "      <td>5006</td>\n",
       "      <td>40</td>\n",
       "    </tr>\n",
       "    <tr>\n",
       "      <th>10</th>\n",
       "      <td>125125</td>\n",
       "      <td>0</td>\n",
       "      <td>5008</td>\n",
       "      <td>0</td>\n",
       "    </tr>\n",
       "    <tr>\n",
       "      <th>11</th>\n",
       "      <td>125165</td>\n",
       "      <td>0</td>\n",
       "      <td>5008</td>\n",
       "      <td>40</td>\n",
       "    </tr>\n",
       "  </tbody>\n",
       "</table>\n",
       "</div>"
      ],
      "text/plain": [
       "    primary_id  design_id  strategy_id  future_id\n",
       "0            0          0            0          0\n",
       "1           40          0            0         40\n",
       "2        14014          0         1014          0\n",
       "3        14054          0         1014         40\n",
       "4       118118          0         5001          0\n",
       "5       118158          0         5001         40\n",
       "6       121121          0         5004          0\n",
       "7       121161          0         5004         40\n",
       "8       123123          0         5006          0\n",
       "9       123163          0         5006         40\n",
       "10      125125          0         5008          0\n",
       "11      125165          0         5008         40"
      ]
     },
     "execution_count": 259,
     "metadata": {},
     "output_type": "execute_result"
    }
   ],
   "source": [
    "with engine.connect() as con:\n",
    "    df_primary = pd.read_sql_query(f\"SELECT * FROM {table_name}''\", con)\n",
    "    \n",
    "df_primary"
   ]
  },
  {
   "cell_type": "code",
   "execution_count": 260,
   "id": "6322b8fb-962c-4961-ba3c-048fef4a083f",
   "metadata": {},
   "outputs": [],
   "source": [
    "# let's say we want to drop the table; write the query\n",
    "query_drop = f\"DROP TABLE {table_name};\"\n"
   ]
  },
  {
   "cell_type": "code",
   "execution_count": 261,
   "id": "d9a424d6-b2b7-4dce-8773-f9cefad741d0",
   "metadata": {},
   "outputs": [],
   "source": [
    "with engine.connect() as con:\n",
    "    con.execute(sqlalchemy.text(query_drop))\n",
    "    con.commit() # commit the changes explicitly\n",
    "\n"
   ]
  },
  {
   "cell_type": "code",
   "execution_count": 262,
   "id": "f628ffae-f44d-40fb-b872-ab83394e7132",
   "metadata": {},
   "outputs": [
    {
     "data": {
      "text/plain": [
       "False"
      ]
     },
     "execution_count": 262,
     "metadata": {},
     "output_type": "execute_result"
    }
   ],
   "source": [
    "# is the table still there?\n",
    "table_name in sqlalchemy.inspect(engine).get_table_names() "
   ]
  },
  {
   "cell_type": "markdown",
   "id": "eaecd11b-5d8d-49fc-8d5c-bad0d8da9688",
   "metadata": {},
   "source": [
    "# Explicit schema construction\n",
    "\n",
    "We can--and should--explicitly construct schema for our databases when we know the structure. \n",
    "\n",
    "Check [SQLite datatypes](https://www.sqlite.org/datatype3.html) for more information on datatypes in SQLite."
   ]
  },
  {
   "cell_type": "code",
   "execution_count": 263,
   "id": "757a5af3-8f28-4af1-95a3-474ccf30b4b7",
   "metadata": {},
   "outputs": [],
   "source": [
    "# we can also be explicit about the schema we provide when we use pd.DataFrame.to_sql()\n",
    "# suppose this dictionary maps pandas types to sql data types\n",
    "\n",
    "dict_dtypes_to_sql_types = {\n",
    "    \"string\": \"STRING\", # this could be character or varchar in some dbs\n",
    "    \"o\": \"STRING\",\n",
    "    \"float32\": \"FLOAT\",\n",
    "    \"float64\": \"STRING\",\n",
    "    \"int32\": \"INTEGER\",\n",
    "    \"int64\": \"INTEGER\",\n",
    "}"
   ]
  },
  {
   "cell_type": "markdown",
   "id": "cd346b6e-eb22-4e03-826e-f4ff47d36f26",
   "metadata": {},
   "source": [
    "##  Explicit schema creation\n",
    "\n",
    "we'll derive this from the tables for this exercise, but often, when you structure your DB, you know ahead of time what it is--the information could be stored in a CSV, configuration file, explicit in code, etc.\n",
    "\n",
    "Here, we'll create the table, specify the primary key (which can be one or more columns), and append to the table.\n",
    "\n",
    "More from [SQLite Tutorial](https://www.sqlitetutorial.net/sqlite-primary-key/), where you can see how to formulate a primary key from multiple attributes"
   ]
  },
  {
   "cell_type": "code",
   "execution_count": 265,
   "id": "bdf03884-07d1-4323-a9fa-d1b55361355a",
   "metadata": {},
   "outputs": [
    {
     "data": {
      "text/plain": [
       "{'primary_id': dtype('int64'),\n",
       " 'design_id': dtype('int64'),\n",
       " 'strategy_id': dtype('int64'),\n",
       " 'future_id': dtype('int64')}"
      ]
     },
     "execution_count": 265,
     "metadata": {},
     "output_type": "execute_result"
    }
   ],
   "source": [
    "df_to_write.dtypes.to_dict()"
   ]
  },
  {
   "cell_type": "code",
   "execution_count": 266,
   "id": "95f119b2-d4e5-46d7-8340-04d842bf1010",
   "metadata": {},
   "outputs": [
    {
     "name": "stdout",
     "output_type": "stream",
     "text": [
      "CREATE TABLE ATTRIBUTE_PRIMARY (primary_id INTEGER NOT NULL PRIMARY KEY, design_id INTEGER, strategy_id INTEGER, future_id INTEGER);\n"
     ]
    }
   ],
   "source": [
    "# initialize the columns and specify the primary key\n",
    "columns = []\n",
    "primary_key = \"primary_id\"\n",
    "\n",
    "for x in df_to_write.columns:\n",
    "    dtype_convert = df_to_write.dtypes.to_dict().get(\"primary_id\")\n",
    "    sqlite_dtype = dict_dtypes_to_sql_types.get(str(dtype_convert))\n",
    "\n",
    "    if sqlite_dtype is None:\n",
    "        raise RuntimeError(f\"Missing data type for column {x}\")\n",
    "\n",
    "    col = f\"{x} {sqlite_dtype}\"\n",
    "    if x == primary_key:\n",
    "        col = f\"{col} NOT NULL PRIMARY KEY\"\n",
    "        \n",
    "    columns.append(col)\n",
    "\n",
    "\n",
    "# \n",
    "# make the schema\n",
    "query_create_schema = \", \".join(columns)\n",
    "query_create_schema = f\"CREATE TABLE {table_name} ({query_create_schema});\";\n",
    "\n",
    "print(query_create_schema)"
   ]
  },
  {
   "cell_type": "code",
   "execution_count": 267,
   "id": "c2223475-4f1e-44cd-9692-7c10e7b431e0",
   "metadata": {},
   "outputs": [],
   "source": [
    "with engine.connect() as con:\n",
    "    con.execute(sqlalchemy.text(query_create_schema))\n",
    "    con.commit()"
   ]
  },
  {
   "cell_type": "code",
   "execution_count": 268,
   "id": "265644ce-4728-4736-89bd-fc6e65d5b958",
   "metadata": {},
   "outputs": [
    {
     "data": {
      "text/plain": [
       "True"
      ]
     },
     "execution_count": 268,
     "metadata": {},
     "output_type": "execute_result"
    }
   ],
   "source": [
    "table_name in sqlalchemy.inspect(engine).get_table_names() "
   ]
  },
  {
   "cell_type": "code",
   "execution_count": 269,
   "id": "1c2b8495-b2ed-4c11-9b68-b5f2d220226c",
   "metadata": {},
   "outputs": [],
   "source": [
    "# let's insert a row as a test\n",
    "query_insert = \", \".join(list(df_to_write.columns))\n",
    "query_insert = f\"INSERT INTO {table_name} ({query_insert}) VALUES (0, 0, 0, 0);\"\n",
    "with engine.connect() as con:\n",
    "    con.execute(sqlalchemy.text(query_insert))\n",
    "    con.commit()"
   ]
  },
  {
   "cell_type": "code",
   "execution_count": 271,
   "id": "0e0af767-d396-42c4-9cc2-85ecfd3d1f99",
   "metadata": {},
   "outputs": [
    {
     "data": {
      "text/html": [
       "<div>\n",
       "<style scoped>\n",
       "    .dataframe tbody tr th:only-of-type {\n",
       "        vertical-align: middle;\n",
       "    }\n",
       "\n",
       "    .dataframe tbody tr th {\n",
       "        vertical-align: top;\n",
       "    }\n",
       "\n",
       "    .dataframe thead th {\n",
       "        text-align: right;\n",
       "    }\n",
       "</style>\n",
       "<table border=\"1\" class=\"dataframe\">\n",
       "  <thead>\n",
       "    <tr style=\"text-align: right;\">\n",
       "      <th></th>\n",
       "      <th>primary_id</th>\n",
       "      <th>design_id</th>\n",
       "      <th>strategy_id</th>\n",
       "      <th>future_id</th>\n",
       "    </tr>\n",
       "  </thead>\n",
       "  <tbody>\n",
       "    <tr>\n",
       "      <th>0</th>\n",
       "      <td>0</td>\n",
       "      <td>0</td>\n",
       "      <td>0</td>\n",
       "      <td>0</td>\n",
       "    </tr>\n",
       "  </tbody>\n",
       "</table>\n",
       "</div>"
      ],
      "text/plain": [
       "   primary_id  design_id  strategy_id  future_id\n",
       "0           0          0            0          0"
      ]
     },
     "execution_count": 271,
     "metadata": {},
     "output_type": "execute_result"
    }
   ],
   "source": [
    "# check the transaction\n",
    "with engine.connect() as con:\n",
    "    df_check = pd.read_sql_query(f\"SELECT * FROM {table_name}\", con)\n",
    "    \n",
    "df_check"
   ]
  },
  {
   "cell_type": "code",
   "execution_count": 272,
   "id": "ea792c5b-96cd-4347-bc47-df43dc0cd134",
   "metadata": {},
   "outputs": [
    {
     "data": {
      "text/html": [
       "<div>\n",
       "<style scoped>\n",
       "    .dataframe tbody tr th:only-of-type {\n",
       "        vertical-align: middle;\n",
       "    }\n",
       "\n",
       "    .dataframe tbody tr th {\n",
       "        vertical-align: top;\n",
       "    }\n",
       "\n",
       "    .dataframe thead th {\n",
       "        text-align: right;\n",
       "    }\n",
       "</style>\n",
       "<table border=\"1\" class=\"dataframe\">\n",
       "  <thead>\n",
       "    <tr style=\"text-align: right;\">\n",
       "      <th></th>\n",
       "      <th>primary_id</th>\n",
       "      <th>design_id</th>\n",
       "      <th>strategy_id</th>\n",
       "      <th>future_id</th>\n",
       "    </tr>\n",
       "  </thead>\n",
       "  <tbody>\n",
       "    <tr>\n",
       "      <th>0</th>\n",
       "      <td>0</td>\n",
       "      <td>0</td>\n",
       "      <td>0</td>\n",
       "      <td>0</td>\n",
       "    </tr>\n",
       "    <tr>\n",
       "      <th>1</th>\n",
       "      <td>40</td>\n",
       "      <td>0</td>\n",
       "      <td>0</td>\n",
       "      <td>40</td>\n",
       "    </tr>\n",
       "    <tr>\n",
       "      <th>2</th>\n",
       "      <td>14014</td>\n",
       "      <td>0</td>\n",
       "      <td>1014</td>\n",
       "      <td>0</td>\n",
       "    </tr>\n",
       "    <tr>\n",
       "      <th>3</th>\n",
       "      <td>14054</td>\n",
       "      <td>0</td>\n",
       "      <td>1014</td>\n",
       "      <td>40</td>\n",
       "    </tr>\n",
       "    <tr>\n",
       "      <th>4</th>\n",
       "      <td>118118</td>\n",
       "      <td>0</td>\n",
       "      <td>5001</td>\n",
       "      <td>0</td>\n",
       "    </tr>\n",
       "    <tr>\n",
       "      <th>5</th>\n",
       "      <td>118158</td>\n",
       "      <td>0</td>\n",
       "      <td>5001</td>\n",
       "      <td>40</td>\n",
       "    </tr>\n",
       "    <tr>\n",
       "      <th>6</th>\n",
       "      <td>121121</td>\n",
       "      <td>0</td>\n",
       "      <td>5004</td>\n",
       "      <td>0</td>\n",
       "    </tr>\n",
       "    <tr>\n",
       "      <th>7</th>\n",
       "      <td>121161</td>\n",
       "      <td>0</td>\n",
       "      <td>5004</td>\n",
       "      <td>40</td>\n",
       "    </tr>\n",
       "    <tr>\n",
       "      <th>8</th>\n",
       "      <td>123123</td>\n",
       "      <td>0</td>\n",
       "      <td>5006</td>\n",
       "      <td>0</td>\n",
       "    </tr>\n",
       "    <tr>\n",
       "      <th>9</th>\n",
       "      <td>123163</td>\n",
       "      <td>0</td>\n",
       "      <td>5006</td>\n",
       "      <td>40</td>\n",
       "    </tr>\n",
       "    <tr>\n",
       "      <th>10</th>\n",
       "      <td>125125</td>\n",
       "      <td>0</td>\n",
       "      <td>5008</td>\n",
       "      <td>0</td>\n",
       "    </tr>\n",
       "    <tr>\n",
       "      <th>11</th>\n",
       "      <td>125165</td>\n",
       "      <td>0</td>\n",
       "      <td>5008</td>\n",
       "      <td>40</td>\n",
       "    </tr>\n",
       "  </tbody>\n",
       "</table>\n",
       "</div>"
      ],
      "text/plain": [
       "    primary_id  design_id  strategy_id  future_id\n",
       "0            0          0            0          0\n",
       "1           40          0            0         40\n",
       "2        14014          0         1014          0\n",
       "3        14054          0         1014         40\n",
       "4       118118          0         5001          0\n",
       "5       118158          0         5001         40\n",
       "6       121121          0         5004          0\n",
       "7       121161          0         5004         40\n",
       "8       123123          0         5006          0\n",
       "9       123163          0         5006         40\n",
       "10      125125          0         5008          0\n",
       "11      125165          0         5008         40"
      ]
     },
     "execution_count": 272,
     "metadata": {},
     "output_type": "execute_result"
    }
   ],
   "source": [
    "df_to_write"
   ]
  },
  {
   "cell_type": "markdown",
   "id": "d46f71a2-474a-424c-ba8b-84f2faa8fd13",
   "metadata": {},
   "source": [
    "##  what happens when we try to commit the existing table?"
   ]
  },
  {
   "cell_type": "code",
   "execution_count": 273,
   "id": "7e7a4b2d-c848-420d-989d-cce646f30e76",
   "metadata": {
    "collapsed": true,
    "jupyter": {
     "outputs_hidden": true
    }
   },
   "outputs": [
    {
     "ename": "IntegrityError",
     "evalue": "(sqlite3.IntegrityError) UNIQUE constraint failed: ATTRIBUTE_PRIMARY.primary_id\n[SQL: INSERT INTO \"ATTRIBUTE_PRIMARY\" (primary_id, design_id, strategy_id, future_id) VALUES (?, ?, ?, ?)]\n[parameters: [(0, 0, 0, 0), (40, 0, 0, 40), (14014, 0, 1014, 0), (14054, 0, 1014, 40), (118118, 0, 5001, 0), (118158, 0, 5001, 40), (121121, 0, 5004, 0), (121161, 0, 5004, 40)  ... displaying 10 of 12 total bound parameter sets ...  (125125, 0, 5008, 0), (125165, 0, 5008, 40)]]\n(Background on this error at: https://sqlalche.me/e/20/gkpj)",
     "output_type": "error",
     "traceback": [
      "\u001b[0;31m---------------------------------------------------------------------------\u001b[0m",
      "\u001b[0;31mIntegrityError\u001b[0m                            Traceback (most recent call last)",
      "File \u001b[0;32m/opt/miniconda3/envs/amber_is_your_energy/lib/python3.11/site-packages/sqlalchemy/engine/base.py:1933\u001b[0m, in \u001b[0;36mConnection._exec_single_context\u001b[0;34m(self, dialect, context, statement, parameters)\u001b[0m\n\u001b[1;32m   1932\u001b[0m     \u001b[38;5;28;01mif\u001b[39;00m \u001b[38;5;129;01mnot\u001b[39;00m evt_handled:\n\u001b[0;32m-> 1933\u001b[0m         \u001b[38;5;28;43mself\u001b[39;49m\u001b[38;5;241;43m.\u001b[39;49m\u001b[43mdialect\u001b[49m\u001b[38;5;241;43m.\u001b[39;49m\u001b[43mdo_executemany\u001b[49m\u001b[43m(\u001b[49m\n\u001b[1;32m   1934\u001b[0m \u001b[43m            \u001b[49m\u001b[43mcursor\u001b[49m\u001b[43m,\u001b[49m\n\u001b[1;32m   1935\u001b[0m \u001b[43m            \u001b[49m\u001b[43mstr_statement\u001b[49m\u001b[43m,\u001b[49m\n\u001b[1;32m   1936\u001b[0m \u001b[43m            \u001b[49m\u001b[43meffective_parameters\u001b[49m\u001b[43m,\u001b[49m\n\u001b[1;32m   1937\u001b[0m \u001b[43m            \u001b[49m\u001b[43mcontext\u001b[49m\u001b[43m,\u001b[49m\n\u001b[1;32m   1938\u001b[0m \u001b[43m        \u001b[49m\u001b[43m)\u001b[49m\n\u001b[1;32m   1939\u001b[0m \u001b[38;5;28;01melif\u001b[39;00m \u001b[38;5;129;01mnot\u001b[39;00m effective_parameters \u001b[38;5;129;01mand\u001b[39;00m context\u001b[38;5;241m.\u001b[39mno_parameters:\n",
      "File \u001b[0;32m/opt/miniconda3/envs/amber_is_your_energy/lib/python3.11/site-packages/sqlalchemy/engine/default.py:939\u001b[0m, in \u001b[0;36mDefaultDialect.do_executemany\u001b[0;34m(self, cursor, statement, parameters, context)\u001b[0m\n\u001b[1;32m    938\u001b[0m \u001b[38;5;28;01mdef\u001b[39;00m \u001b[38;5;21mdo_executemany\u001b[39m(\u001b[38;5;28mself\u001b[39m, cursor, statement, parameters, context\u001b[38;5;241m=\u001b[39m\u001b[38;5;28;01mNone\u001b[39;00m):\n\u001b[0;32m--> 939\u001b[0m     \u001b[43mcursor\u001b[49m\u001b[38;5;241;43m.\u001b[39;49m\u001b[43mexecutemany\u001b[49m\u001b[43m(\u001b[49m\u001b[43mstatement\u001b[49m\u001b[43m,\u001b[49m\u001b[43m \u001b[49m\u001b[43mparameters\u001b[49m\u001b[43m)\u001b[49m\n",
      "\u001b[0;31mIntegrityError\u001b[0m: UNIQUE constraint failed: ATTRIBUTE_PRIMARY.primary_id",
      "\nThe above exception was the direct cause of the following exception:\n",
      "\u001b[0;31mIntegrityError\u001b[0m                            Traceback (most recent call last)",
      "Cell \u001b[0;32mIn[273], line 2\u001b[0m\n\u001b[1;32m      1\u001b[0m \u001b[38;5;66;03m# we can use the pd.to_sql function to write to the database\u001b[39;00m\n\u001b[0;32m----> 2\u001b[0m \u001b[43mdf_to_write\u001b[49m\u001b[38;5;241;43m.\u001b[39;49m\u001b[43mto_sql\u001b[49m\u001b[43m(\u001b[49m\n\u001b[1;32m      3\u001b[0m \u001b[43m    \u001b[49m\u001b[43mtable_name\u001b[49m\u001b[43m,\u001b[49m\u001b[43m \u001b[49m\n\u001b[1;32m      4\u001b[0m \u001b[43m    \u001b[49m\u001b[43mengine\u001b[49m\u001b[43m,\u001b[49m\u001b[43m \u001b[49m\n\u001b[1;32m      5\u001b[0m \u001b[43m    \u001b[49m\u001b[43mif_exists\u001b[49m\u001b[43m \u001b[49m\u001b[38;5;241;43m=\u001b[39;49m\u001b[43m \u001b[49m\u001b[38;5;124;43m\"\u001b[39;49m\u001b[38;5;124;43mappend\u001b[39;49m\u001b[38;5;124;43m\"\u001b[39;49m\u001b[43m,\u001b[49m\u001b[43m \u001b[49m\n\u001b[1;32m      6\u001b[0m \u001b[43m    \u001b[49m\u001b[43mindex\u001b[49m\u001b[43m \u001b[49m\u001b[38;5;241;43m=\u001b[39;49m\u001b[43m \u001b[49m\u001b[38;5;28;43;01mNone\u001b[39;49;00m\u001b[43m,\u001b[49m\n\u001b[1;32m      7\u001b[0m \u001b[43m)\u001b[49m;\n",
      "File \u001b[0;32m/opt/miniconda3/envs/amber_is_your_energy/lib/python3.11/site-packages/pandas/util/_decorators.py:333\u001b[0m, in \u001b[0;36mdeprecate_nonkeyword_arguments.<locals>.decorate.<locals>.wrapper\u001b[0;34m(*args, **kwargs)\u001b[0m\n\u001b[1;32m    327\u001b[0m \u001b[38;5;28;01mif\u001b[39;00m \u001b[38;5;28mlen\u001b[39m(args) \u001b[38;5;241m>\u001b[39m num_allow_args:\n\u001b[1;32m    328\u001b[0m     warnings\u001b[38;5;241m.\u001b[39mwarn(\n\u001b[1;32m    329\u001b[0m         msg\u001b[38;5;241m.\u001b[39mformat(arguments\u001b[38;5;241m=\u001b[39m_format_argument_list(allow_args)),\n\u001b[1;32m    330\u001b[0m         \u001b[38;5;167;01mFutureWarning\u001b[39;00m,\n\u001b[1;32m    331\u001b[0m         stacklevel\u001b[38;5;241m=\u001b[39mfind_stack_level(),\n\u001b[1;32m    332\u001b[0m     )\n\u001b[0;32m--> 333\u001b[0m \u001b[38;5;28;01mreturn\u001b[39;00m \u001b[43mfunc\u001b[49m\u001b[43m(\u001b[49m\u001b[38;5;241;43m*\u001b[39;49m\u001b[43margs\u001b[49m\u001b[43m,\u001b[49m\u001b[43m \u001b[49m\u001b[38;5;241;43m*\u001b[39;49m\u001b[38;5;241;43m*\u001b[39;49m\u001b[43mkwargs\u001b[49m\u001b[43m)\u001b[49m\n",
      "File \u001b[0;32m/opt/miniconda3/envs/amber_is_your_energy/lib/python3.11/site-packages/pandas/core/generic.py:3087\u001b[0m, in \u001b[0;36mNDFrame.to_sql\u001b[0;34m(self, name, con, schema, if_exists, index, index_label, chunksize, dtype, method)\u001b[0m\n\u001b[1;32m   2889\u001b[0m \u001b[38;5;250m\u001b[39m\u001b[38;5;124;03m\"\"\"\u001b[39;00m\n\u001b[1;32m   2890\u001b[0m \u001b[38;5;124;03mWrite records stored in a DataFrame to a SQL database.\u001b[39;00m\n\u001b[1;32m   2891\u001b[0m \n\u001b[0;32m   (...)\u001b[0m\n\u001b[1;32m   3083\u001b[0m \u001b[38;5;124;03m[(1,), (None,), (2,)]\u001b[39;00m\n\u001b[1;32m   3084\u001b[0m \u001b[38;5;124;03m\"\"\"\u001b[39;00m  \u001b[38;5;66;03m# noqa: E501\u001b[39;00m\n\u001b[1;32m   3085\u001b[0m \u001b[38;5;28;01mfrom\u001b[39;00m \u001b[38;5;21;01mpandas\u001b[39;00m\u001b[38;5;21;01m.\u001b[39;00m\u001b[38;5;21;01mio\u001b[39;00m \u001b[38;5;28;01mimport\u001b[39;00m sql\n\u001b[0;32m-> 3087\u001b[0m \u001b[38;5;28;01mreturn\u001b[39;00m \u001b[43msql\u001b[49m\u001b[38;5;241;43m.\u001b[39;49m\u001b[43mto_sql\u001b[49m\u001b[43m(\u001b[49m\n\u001b[1;32m   3088\u001b[0m \u001b[43m    \u001b[49m\u001b[38;5;28;43mself\u001b[39;49m\u001b[43m,\u001b[49m\n\u001b[1;32m   3089\u001b[0m \u001b[43m    \u001b[49m\u001b[43mname\u001b[49m\u001b[43m,\u001b[49m\n\u001b[1;32m   3090\u001b[0m \u001b[43m    \u001b[49m\u001b[43mcon\u001b[49m\u001b[43m,\u001b[49m\n\u001b[1;32m   3091\u001b[0m \u001b[43m    \u001b[49m\u001b[43mschema\u001b[49m\u001b[38;5;241;43m=\u001b[39;49m\u001b[43mschema\u001b[49m\u001b[43m,\u001b[49m\n\u001b[1;32m   3092\u001b[0m \u001b[43m    \u001b[49m\u001b[43mif_exists\u001b[49m\u001b[38;5;241;43m=\u001b[39;49m\u001b[43mif_exists\u001b[49m\u001b[43m,\u001b[49m\n\u001b[1;32m   3093\u001b[0m \u001b[43m    \u001b[49m\u001b[43mindex\u001b[49m\u001b[38;5;241;43m=\u001b[39;49m\u001b[43mindex\u001b[49m\u001b[43m,\u001b[49m\n\u001b[1;32m   3094\u001b[0m \u001b[43m    \u001b[49m\u001b[43mindex_label\u001b[49m\u001b[38;5;241;43m=\u001b[39;49m\u001b[43mindex_label\u001b[49m\u001b[43m,\u001b[49m\n\u001b[1;32m   3095\u001b[0m \u001b[43m    \u001b[49m\u001b[43mchunksize\u001b[49m\u001b[38;5;241;43m=\u001b[39;49m\u001b[43mchunksize\u001b[49m\u001b[43m,\u001b[49m\n\u001b[1;32m   3096\u001b[0m \u001b[43m    \u001b[49m\u001b[43mdtype\u001b[49m\u001b[38;5;241;43m=\u001b[39;49m\u001b[43mdtype\u001b[49m\u001b[43m,\u001b[49m\n\u001b[1;32m   3097\u001b[0m \u001b[43m    \u001b[49m\u001b[43mmethod\u001b[49m\u001b[38;5;241;43m=\u001b[39;49m\u001b[43mmethod\u001b[49m\u001b[43m,\u001b[49m\n\u001b[1;32m   3098\u001b[0m \u001b[43m\u001b[49m\u001b[43m)\u001b[49m\n",
      "File \u001b[0;32m/opt/miniconda3/envs/amber_is_your_energy/lib/python3.11/site-packages/pandas/io/sql.py:842\u001b[0m, in \u001b[0;36mto_sql\u001b[0;34m(frame, name, con, schema, if_exists, index, index_label, chunksize, dtype, method, engine, **engine_kwargs)\u001b[0m\n\u001b[1;32m    837\u001b[0m     \u001b[38;5;28;01mraise\u001b[39;00m \u001b[38;5;167;01mNotImplementedError\u001b[39;00m(\n\u001b[1;32m    838\u001b[0m         \u001b[38;5;124m\"\u001b[39m\u001b[38;5;124m'\u001b[39m\u001b[38;5;124mframe\u001b[39m\u001b[38;5;124m'\u001b[39m\u001b[38;5;124m argument should be either a Series or a DataFrame\u001b[39m\u001b[38;5;124m\"\u001b[39m\n\u001b[1;32m    839\u001b[0m     )\n\u001b[1;32m    841\u001b[0m \u001b[38;5;28;01mwith\u001b[39;00m pandasSQL_builder(con, schema\u001b[38;5;241m=\u001b[39mschema, need_transaction\u001b[38;5;241m=\u001b[39m\u001b[38;5;28;01mTrue\u001b[39;00m) \u001b[38;5;28;01mas\u001b[39;00m pandas_sql:\n\u001b[0;32m--> 842\u001b[0m     \u001b[38;5;28;01mreturn\u001b[39;00m \u001b[43mpandas_sql\u001b[49m\u001b[38;5;241;43m.\u001b[39;49m\u001b[43mto_sql\u001b[49m\u001b[43m(\u001b[49m\n\u001b[1;32m    843\u001b[0m \u001b[43m        \u001b[49m\u001b[43mframe\u001b[49m\u001b[43m,\u001b[49m\n\u001b[1;32m    844\u001b[0m \u001b[43m        \u001b[49m\u001b[43mname\u001b[49m\u001b[43m,\u001b[49m\n\u001b[1;32m    845\u001b[0m \u001b[43m        \u001b[49m\u001b[43mif_exists\u001b[49m\u001b[38;5;241;43m=\u001b[39;49m\u001b[43mif_exists\u001b[49m\u001b[43m,\u001b[49m\n\u001b[1;32m    846\u001b[0m \u001b[43m        \u001b[49m\u001b[43mindex\u001b[49m\u001b[38;5;241;43m=\u001b[39;49m\u001b[43mindex\u001b[49m\u001b[43m,\u001b[49m\n\u001b[1;32m    847\u001b[0m \u001b[43m        \u001b[49m\u001b[43mindex_label\u001b[49m\u001b[38;5;241;43m=\u001b[39;49m\u001b[43mindex_label\u001b[49m\u001b[43m,\u001b[49m\n\u001b[1;32m    848\u001b[0m \u001b[43m        \u001b[49m\u001b[43mschema\u001b[49m\u001b[38;5;241;43m=\u001b[39;49m\u001b[43mschema\u001b[49m\u001b[43m,\u001b[49m\n\u001b[1;32m    849\u001b[0m \u001b[43m        \u001b[49m\u001b[43mchunksize\u001b[49m\u001b[38;5;241;43m=\u001b[39;49m\u001b[43mchunksize\u001b[49m\u001b[43m,\u001b[49m\n\u001b[1;32m    850\u001b[0m \u001b[43m        \u001b[49m\u001b[43mdtype\u001b[49m\u001b[38;5;241;43m=\u001b[39;49m\u001b[43mdtype\u001b[49m\u001b[43m,\u001b[49m\n\u001b[1;32m    851\u001b[0m \u001b[43m        \u001b[49m\u001b[43mmethod\u001b[49m\u001b[38;5;241;43m=\u001b[39;49m\u001b[43mmethod\u001b[49m\u001b[43m,\u001b[49m\n\u001b[1;32m    852\u001b[0m \u001b[43m        \u001b[49m\u001b[43mengine\u001b[49m\u001b[38;5;241;43m=\u001b[39;49m\u001b[43mengine\u001b[49m\u001b[43m,\u001b[49m\n\u001b[1;32m    853\u001b[0m \u001b[43m        \u001b[49m\u001b[38;5;241;43m*\u001b[39;49m\u001b[38;5;241;43m*\u001b[39;49m\u001b[43mengine_kwargs\u001b[49m\u001b[43m,\u001b[49m\n\u001b[1;32m    854\u001b[0m \u001b[43m    \u001b[49m\u001b[43m)\u001b[49m\n",
      "File \u001b[0;32m/opt/miniconda3/envs/amber_is_your_energy/lib/python3.11/site-packages/pandas/io/sql.py:2018\u001b[0m, in \u001b[0;36mSQLDatabase.to_sql\u001b[0;34m(self, frame, name, if_exists, index, index_label, schema, chunksize, dtype, method, engine, **engine_kwargs)\u001b[0m\n\u001b[1;32m   2006\u001b[0m sql_engine \u001b[38;5;241m=\u001b[39m get_engine(engine)\n\u001b[1;32m   2008\u001b[0m table \u001b[38;5;241m=\u001b[39m \u001b[38;5;28mself\u001b[39m\u001b[38;5;241m.\u001b[39mprep_table(\n\u001b[1;32m   2009\u001b[0m     frame\u001b[38;5;241m=\u001b[39mframe,\n\u001b[1;32m   2010\u001b[0m     name\u001b[38;5;241m=\u001b[39mname,\n\u001b[0;32m   (...)\u001b[0m\n\u001b[1;32m   2015\u001b[0m     dtype\u001b[38;5;241m=\u001b[39mdtype,\n\u001b[1;32m   2016\u001b[0m )\n\u001b[0;32m-> 2018\u001b[0m total_inserted \u001b[38;5;241m=\u001b[39m \u001b[43msql_engine\u001b[49m\u001b[38;5;241;43m.\u001b[39;49m\u001b[43minsert_records\u001b[49m\u001b[43m(\u001b[49m\n\u001b[1;32m   2019\u001b[0m \u001b[43m    \u001b[49m\u001b[43mtable\u001b[49m\u001b[38;5;241;43m=\u001b[39;49m\u001b[43mtable\u001b[49m\u001b[43m,\u001b[49m\n\u001b[1;32m   2020\u001b[0m \u001b[43m    \u001b[49m\u001b[43mcon\u001b[49m\u001b[38;5;241;43m=\u001b[39;49m\u001b[38;5;28;43mself\u001b[39;49m\u001b[38;5;241;43m.\u001b[39;49m\u001b[43mcon\u001b[49m\u001b[43m,\u001b[49m\n\u001b[1;32m   2021\u001b[0m \u001b[43m    \u001b[49m\u001b[43mframe\u001b[49m\u001b[38;5;241;43m=\u001b[39;49m\u001b[43mframe\u001b[49m\u001b[43m,\u001b[49m\n\u001b[1;32m   2022\u001b[0m \u001b[43m    \u001b[49m\u001b[43mname\u001b[49m\u001b[38;5;241;43m=\u001b[39;49m\u001b[43mname\u001b[49m\u001b[43m,\u001b[49m\n\u001b[1;32m   2023\u001b[0m \u001b[43m    \u001b[49m\u001b[43mindex\u001b[49m\u001b[38;5;241;43m=\u001b[39;49m\u001b[43mindex\u001b[49m\u001b[43m,\u001b[49m\n\u001b[1;32m   2024\u001b[0m \u001b[43m    \u001b[49m\u001b[43mschema\u001b[49m\u001b[38;5;241;43m=\u001b[39;49m\u001b[43mschema\u001b[49m\u001b[43m,\u001b[49m\n\u001b[1;32m   2025\u001b[0m \u001b[43m    \u001b[49m\u001b[43mchunksize\u001b[49m\u001b[38;5;241;43m=\u001b[39;49m\u001b[43mchunksize\u001b[49m\u001b[43m,\u001b[49m\n\u001b[1;32m   2026\u001b[0m \u001b[43m    \u001b[49m\u001b[43mmethod\u001b[49m\u001b[38;5;241;43m=\u001b[39;49m\u001b[43mmethod\u001b[49m\u001b[43m,\u001b[49m\n\u001b[1;32m   2027\u001b[0m \u001b[43m    \u001b[49m\u001b[38;5;241;43m*\u001b[39;49m\u001b[38;5;241;43m*\u001b[39;49m\u001b[43mengine_kwargs\u001b[49m\u001b[43m,\u001b[49m\n\u001b[1;32m   2028\u001b[0m \u001b[43m\u001b[49m\u001b[43m)\u001b[49m\n\u001b[1;32m   2030\u001b[0m \u001b[38;5;28mself\u001b[39m\u001b[38;5;241m.\u001b[39mcheck_case_sensitive(name\u001b[38;5;241m=\u001b[39mname, schema\u001b[38;5;241m=\u001b[39mschema)\n\u001b[1;32m   2031\u001b[0m \u001b[38;5;28;01mreturn\u001b[39;00m total_inserted\n",
      "File \u001b[0;32m/opt/miniconda3/envs/amber_is_your_energy/lib/python3.11/site-packages/pandas/io/sql.py:1567\u001b[0m, in \u001b[0;36mSQLAlchemyEngine.insert_records\u001b[0;34m(self, table, con, frame, name, index, schema, chunksize, method, **engine_kwargs)\u001b[0m\n\u001b[1;32m   1565\u001b[0m \u001b[38;5;28;01mif\u001b[39;00m re\u001b[38;5;241m.\u001b[39msearch(msg, err_text):\n\u001b[1;32m   1566\u001b[0m     \u001b[38;5;28;01mraise\u001b[39;00m \u001b[38;5;167;01mValueError\u001b[39;00m(\u001b[38;5;124m\"\u001b[39m\u001b[38;5;124minf cannot be used with MySQL\u001b[39m\u001b[38;5;124m\"\u001b[39m) \u001b[38;5;28;01mfrom\u001b[39;00m \u001b[38;5;21;01merr\u001b[39;00m\n\u001b[0;32m-> 1567\u001b[0m \u001b[38;5;28;01mraise\u001b[39;00m err\n",
      "File \u001b[0;32m/opt/miniconda3/envs/amber_is_your_energy/lib/python3.11/site-packages/pandas/io/sql.py:1558\u001b[0m, in \u001b[0;36mSQLAlchemyEngine.insert_records\u001b[0;34m(self, table, con, frame, name, index, schema, chunksize, method, **engine_kwargs)\u001b[0m\n\u001b[1;32m   1555\u001b[0m \u001b[38;5;28;01mfrom\u001b[39;00m \u001b[38;5;21;01msqlalchemy\u001b[39;00m \u001b[38;5;28;01mimport\u001b[39;00m exc\n\u001b[1;32m   1557\u001b[0m \u001b[38;5;28;01mtry\u001b[39;00m:\n\u001b[0;32m-> 1558\u001b[0m     \u001b[38;5;28;01mreturn\u001b[39;00m \u001b[43mtable\u001b[49m\u001b[38;5;241;43m.\u001b[39;49m\u001b[43minsert\u001b[49m\u001b[43m(\u001b[49m\u001b[43mchunksize\u001b[49m\u001b[38;5;241;43m=\u001b[39;49m\u001b[43mchunksize\u001b[49m\u001b[43m,\u001b[49m\u001b[43m \u001b[49m\u001b[43mmethod\u001b[49m\u001b[38;5;241;43m=\u001b[39;49m\u001b[43mmethod\u001b[49m\u001b[43m)\u001b[49m\n\u001b[1;32m   1559\u001b[0m \u001b[38;5;28;01mexcept\u001b[39;00m exc\u001b[38;5;241m.\u001b[39mStatementError \u001b[38;5;28;01mas\u001b[39;00m err:\n\u001b[1;32m   1560\u001b[0m     \u001b[38;5;66;03m# GH34431\u001b[39;00m\n\u001b[1;32m   1561\u001b[0m     \u001b[38;5;66;03m# https://stackoverflow.com/a/67358288/6067848\u001b[39;00m\n\u001b[1;32m   1562\u001b[0m     msg \u001b[38;5;241m=\u001b[39m \u001b[38;5;124mr\u001b[39m\u001b[38;5;124m\"\"\"\u001b[39m\u001b[38;5;124m(\u001b[39m\u001b[38;5;124m\\\u001b[39m\u001b[38;5;124m(1054, \u001b[39m\u001b[38;5;124m\"\u001b[39m\u001b[38;5;124mUnknown column \u001b[39m\u001b[38;5;124m'\u001b[39m\u001b[38;5;124minf(e0)?\u001b[39m\u001b[38;5;124m'\u001b[39m\u001b[38;5;124m in \u001b[39m\u001b[38;5;124m'\u001b[39m\u001b[38;5;124mfield list\u001b[39m\u001b[38;5;124m'\u001b[39m\u001b[38;5;124m\"\u001b[39m\u001b[38;5;124m\\\u001b[39m\u001b[38;5;124m))(?#\u001b[39m\n\u001b[1;32m   1563\u001b[0m \u001b[38;5;124m    )|inf can not be used with MySQL\u001b[39m\u001b[38;5;124m\"\"\"\u001b[39m\n",
      "File \u001b[0;32m/opt/miniconda3/envs/amber_is_your_energy/lib/python3.11/site-packages/pandas/io/sql.py:1119\u001b[0m, in \u001b[0;36mSQLTable.insert\u001b[0;34m(self, chunksize, method)\u001b[0m\n\u001b[1;32m   1116\u001b[0m     \u001b[38;5;28;01mbreak\u001b[39;00m\n\u001b[1;32m   1118\u001b[0m chunk_iter \u001b[38;5;241m=\u001b[39m \u001b[38;5;28mzip\u001b[39m(\u001b[38;5;241m*\u001b[39m(arr[start_i:end_i] \u001b[38;5;28;01mfor\u001b[39;00m arr \u001b[38;5;129;01min\u001b[39;00m data_list))\n\u001b[0;32m-> 1119\u001b[0m num_inserted \u001b[38;5;241m=\u001b[39m \u001b[43mexec_insert\u001b[49m\u001b[43m(\u001b[49m\u001b[43mconn\u001b[49m\u001b[43m,\u001b[49m\u001b[43m \u001b[49m\u001b[43mkeys\u001b[49m\u001b[43m,\u001b[49m\u001b[43m \u001b[49m\u001b[43mchunk_iter\u001b[49m\u001b[43m)\u001b[49m\n\u001b[1;32m   1120\u001b[0m \u001b[38;5;66;03m# GH 46891\u001b[39;00m\n\u001b[1;32m   1121\u001b[0m \u001b[38;5;28;01mif\u001b[39;00m num_inserted \u001b[38;5;129;01mis\u001b[39;00m \u001b[38;5;129;01mnot\u001b[39;00m \u001b[38;5;28;01mNone\u001b[39;00m:\n",
      "File \u001b[0;32m/opt/miniconda3/envs/amber_is_your_energy/lib/python3.11/site-packages/pandas/io/sql.py:1010\u001b[0m, in \u001b[0;36mSQLTable._execute_insert\u001b[0;34m(self, conn, keys, data_iter)\u001b[0m\n\u001b[1;32m    998\u001b[0m \u001b[38;5;250m\u001b[39m\u001b[38;5;124;03m\"\"\"\u001b[39;00m\n\u001b[1;32m    999\u001b[0m \u001b[38;5;124;03mExecute SQL statement inserting data\u001b[39;00m\n\u001b[1;32m   1000\u001b[0m \n\u001b[0;32m   (...)\u001b[0m\n\u001b[1;32m   1007\u001b[0m \u001b[38;5;124;03m   Each item contains a list of values to be inserted\u001b[39;00m\n\u001b[1;32m   1008\u001b[0m \u001b[38;5;124;03m\"\"\"\u001b[39;00m\n\u001b[1;32m   1009\u001b[0m data \u001b[38;5;241m=\u001b[39m [\u001b[38;5;28mdict\u001b[39m(\u001b[38;5;28mzip\u001b[39m(keys, row)) \u001b[38;5;28;01mfor\u001b[39;00m row \u001b[38;5;129;01min\u001b[39;00m data_iter]\n\u001b[0;32m-> 1010\u001b[0m result \u001b[38;5;241m=\u001b[39m \u001b[43mconn\u001b[49m\u001b[38;5;241;43m.\u001b[39;49m\u001b[43mexecute\u001b[49m\u001b[43m(\u001b[49m\u001b[38;5;28;43mself\u001b[39;49m\u001b[38;5;241;43m.\u001b[39;49m\u001b[43mtable\u001b[49m\u001b[38;5;241;43m.\u001b[39;49m\u001b[43minsert\u001b[49m\u001b[43m(\u001b[49m\u001b[43m)\u001b[49m\u001b[43m,\u001b[49m\u001b[43m \u001b[49m\u001b[43mdata\u001b[49m\u001b[43m)\u001b[49m\n\u001b[1;32m   1011\u001b[0m \u001b[38;5;28;01mreturn\u001b[39;00m result\u001b[38;5;241m.\u001b[39mrowcount\n",
      "File \u001b[0;32m/opt/miniconda3/envs/amber_is_your_energy/lib/python3.11/site-packages/sqlalchemy/engine/base.py:1416\u001b[0m, in \u001b[0;36mConnection.execute\u001b[0;34m(self, statement, parameters, execution_options)\u001b[0m\n\u001b[1;32m   1414\u001b[0m     \u001b[38;5;28;01mraise\u001b[39;00m exc\u001b[38;5;241m.\u001b[39mObjectNotExecutableError(statement) \u001b[38;5;28;01mfrom\u001b[39;00m \u001b[38;5;21;01merr\u001b[39;00m\n\u001b[1;32m   1415\u001b[0m \u001b[38;5;28;01melse\u001b[39;00m:\n\u001b[0;32m-> 1416\u001b[0m     \u001b[38;5;28;01mreturn\u001b[39;00m \u001b[43mmeth\u001b[49m\u001b[43m(\u001b[49m\n\u001b[1;32m   1417\u001b[0m \u001b[43m        \u001b[49m\u001b[38;5;28;43mself\u001b[39;49m\u001b[43m,\u001b[49m\n\u001b[1;32m   1418\u001b[0m \u001b[43m        \u001b[49m\u001b[43mdistilled_parameters\u001b[49m\u001b[43m,\u001b[49m\n\u001b[1;32m   1419\u001b[0m \u001b[43m        \u001b[49m\u001b[43mexecution_options\u001b[49m\u001b[43m \u001b[49m\u001b[38;5;129;43;01mor\u001b[39;49;00m\u001b[43m \u001b[49m\u001b[43mNO_OPTIONS\u001b[49m\u001b[43m,\u001b[49m\n\u001b[1;32m   1420\u001b[0m \u001b[43m    \u001b[49m\u001b[43m)\u001b[49m\n",
      "File \u001b[0;32m/opt/miniconda3/envs/amber_is_your_energy/lib/python3.11/site-packages/sqlalchemy/sql/elements.py:515\u001b[0m, in \u001b[0;36mClauseElement._execute_on_connection\u001b[0;34m(self, connection, distilled_params, execution_options)\u001b[0m\n\u001b[1;32m    513\u001b[0m     \u001b[38;5;28;01mif\u001b[39;00m TYPE_CHECKING:\n\u001b[1;32m    514\u001b[0m         \u001b[38;5;28;01massert\u001b[39;00m \u001b[38;5;28misinstance\u001b[39m(\u001b[38;5;28mself\u001b[39m, Executable)\n\u001b[0;32m--> 515\u001b[0m     \u001b[38;5;28;01mreturn\u001b[39;00m \u001b[43mconnection\u001b[49m\u001b[38;5;241;43m.\u001b[39;49m\u001b[43m_execute_clauseelement\u001b[49m\u001b[43m(\u001b[49m\n\u001b[1;32m    516\u001b[0m \u001b[43m        \u001b[49m\u001b[38;5;28;43mself\u001b[39;49m\u001b[43m,\u001b[49m\u001b[43m \u001b[49m\u001b[43mdistilled_params\u001b[49m\u001b[43m,\u001b[49m\u001b[43m \u001b[49m\u001b[43mexecution_options\u001b[49m\n\u001b[1;32m    517\u001b[0m \u001b[43m    \u001b[49m\u001b[43m)\u001b[49m\n\u001b[1;32m    518\u001b[0m \u001b[38;5;28;01melse\u001b[39;00m:\n\u001b[1;32m    519\u001b[0m     \u001b[38;5;28;01mraise\u001b[39;00m exc\u001b[38;5;241m.\u001b[39mObjectNotExecutableError(\u001b[38;5;28mself\u001b[39m)\n",
      "File \u001b[0;32m/opt/miniconda3/envs/amber_is_your_energy/lib/python3.11/site-packages/sqlalchemy/engine/base.py:1638\u001b[0m, in \u001b[0;36mConnection._execute_clauseelement\u001b[0;34m(self, elem, distilled_parameters, execution_options)\u001b[0m\n\u001b[1;32m   1626\u001b[0m compiled_cache: Optional[CompiledCacheType] \u001b[38;5;241m=\u001b[39m execution_options\u001b[38;5;241m.\u001b[39mget(\n\u001b[1;32m   1627\u001b[0m     \u001b[38;5;124m\"\u001b[39m\u001b[38;5;124mcompiled_cache\u001b[39m\u001b[38;5;124m\"\u001b[39m, \u001b[38;5;28mself\u001b[39m\u001b[38;5;241m.\u001b[39mengine\u001b[38;5;241m.\u001b[39m_compiled_cache\n\u001b[1;32m   1628\u001b[0m )\n\u001b[1;32m   1630\u001b[0m compiled_sql, extracted_params, cache_hit \u001b[38;5;241m=\u001b[39m elem\u001b[38;5;241m.\u001b[39m_compile_w_cache(\n\u001b[1;32m   1631\u001b[0m     dialect\u001b[38;5;241m=\u001b[39mdialect,\n\u001b[1;32m   1632\u001b[0m     compiled_cache\u001b[38;5;241m=\u001b[39mcompiled_cache,\n\u001b[0;32m   (...)\u001b[0m\n\u001b[1;32m   1636\u001b[0m     linting\u001b[38;5;241m=\u001b[39m\u001b[38;5;28mself\u001b[39m\u001b[38;5;241m.\u001b[39mdialect\u001b[38;5;241m.\u001b[39mcompiler_linting \u001b[38;5;241m|\u001b[39m compiler\u001b[38;5;241m.\u001b[39mWARN_LINTING,\n\u001b[1;32m   1637\u001b[0m )\n\u001b[0;32m-> 1638\u001b[0m ret \u001b[38;5;241m=\u001b[39m \u001b[38;5;28;43mself\u001b[39;49m\u001b[38;5;241;43m.\u001b[39;49m\u001b[43m_execute_context\u001b[49m\u001b[43m(\u001b[49m\n\u001b[1;32m   1639\u001b[0m \u001b[43m    \u001b[49m\u001b[43mdialect\u001b[49m\u001b[43m,\u001b[49m\n\u001b[1;32m   1640\u001b[0m \u001b[43m    \u001b[49m\u001b[43mdialect\u001b[49m\u001b[38;5;241;43m.\u001b[39;49m\u001b[43mexecution_ctx_cls\u001b[49m\u001b[38;5;241;43m.\u001b[39;49m\u001b[43m_init_compiled\u001b[49m\u001b[43m,\u001b[49m\n\u001b[1;32m   1641\u001b[0m \u001b[43m    \u001b[49m\u001b[43mcompiled_sql\u001b[49m\u001b[43m,\u001b[49m\n\u001b[1;32m   1642\u001b[0m \u001b[43m    \u001b[49m\u001b[43mdistilled_parameters\u001b[49m\u001b[43m,\u001b[49m\n\u001b[1;32m   1643\u001b[0m \u001b[43m    \u001b[49m\u001b[43mexecution_options\u001b[49m\u001b[43m,\u001b[49m\n\u001b[1;32m   1644\u001b[0m \u001b[43m    \u001b[49m\u001b[43mcompiled_sql\u001b[49m\u001b[43m,\u001b[49m\n\u001b[1;32m   1645\u001b[0m \u001b[43m    \u001b[49m\u001b[43mdistilled_parameters\u001b[49m\u001b[43m,\u001b[49m\n\u001b[1;32m   1646\u001b[0m \u001b[43m    \u001b[49m\u001b[43melem\u001b[49m\u001b[43m,\u001b[49m\n\u001b[1;32m   1647\u001b[0m \u001b[43m    \u001b[49m\u001b[43mextracted_params\u001b[49m\u001b[43m,\u001b[49m\n\u001b[1;32m   1648\u001b[0m \u001b[43m    \u001b[49m\u001b[43mcache_hit\u001b[49m\u001b[38;5;241;43m=\u001b[39;49m\u001b[43mcache_hit\u001b[49m\u001b[43m,\u001b[49m\n\u001b[1;32m   1649\u001b[0m \u001b[43m\u001b[49m\u001b[43m)\u001b[49m\n\u001b[1;32m   1650\u001b[0m \u001b[38;5;28;01mif\u001b[39;00m has_events:\n\u001b[1;32m   1651\u001b[0m     \u001b[38;5;28mself\u001b[39m\u001b[38;5;241m.\u001b[39mdispatch\u001b[38;5;241m.\u001b[39mafter_execute(\n\u001b[1;32m   1652\u001b[0m         \u001b[38;5;28mself\u001b[39m,\n\u001b[1;32m   1653\u001b[0m         elem,\n\u001b[0;32m   (...)\u001b[0m\n\u001b[1;32m   1657\u001b[0m         ret,\n\u001b[1;32m   1658\u001b[0m     )\n",
      "File \u001b[0;32m/opt/miniconda3/envs/amber_is_your_energy/lib/python3.11/site-packages/sqlalchemy/engine/base.py:1843\u001b[0m, in \u001b[0;36mConnection._execute_context\u001b[0;34m(self, dialect, constructor, statement, parameters, execution_options, *args, **kw)\u001b[0m\n\u001b[1;32m   1841\u001b[0m     \u001b[38;5;28;01mreturn\u001b[39;00m \u001b[38;5;28mself\u001b[39m\u001b[38;5;241m.\u001b[39m_exec_insertmany_context(dialect, context)\n\u001b[1;32m   1842\u001b[0m \u001b[38;5;28;01melse\u001b[39;00m:\n\u001b[0;32m-> 1843\u001b[0m     \u001b[38;5;28;01mreturn\u001b[39;00m \u001b[38;5;28;43mself\u001b[39;49m\u001b[38;5;241;43m.\u001b[39;49m\u001b[43m_exec_single_context\u001b[49m\u001b[43m(\u001b[49m\n\u001b[1;32m   1844\u001b[0m \u001b[43m        \u001b[49m\u001b[43mdialect\u001b[49m\u001b[43m,\u001b[49m\u001b[43m \u001b[49m\u001b[43mcontext\u001b[49m\u001b[43m,\u001b[49m\u001b[43m \u001b[49m\u001b[43mstatement\u001b[49m\u001b[43m,\u001b[49m\u001b[43m \u001b[49m\u001b[43mparameters\u001b[49m\n\u001b[1;32m   1845\u001b[0m \u001b[43m    \u001b[49m\u001b[43m)\u001b[49m\n",
      "File \u001b[0;32m/opt/miniconda3/envs/amber_is_your_energy/lib/python3.11/site-packages/sqlalchemy/engine/base.py:1983\u001b[0m, in \u001b[0;36mConnection._exec_single_context\u001b[0;34m(self, dialect, context, statement, parameters)\u001b[0m\n\u001b[1;32m   1980\u001b[0m     result \u001b[38;5;241m=\u001b[39m context\u001b[38;5;241m.\u001b[39m_setup_result_proxy()\n\u001b[1;32m   1982\u001b[0m \u001b[38;5;28;01mexcept\u001b[39;00m \u001b[38;5;167;01mBaseException\u001b[39;00m \u001b[38;5;28;01mas\u001b[39;00m e:\n\u001b[0;32m-> 1983\u001b[0m     \u001b[38;5;28;43mself\u001b[39;49m\u001b[38;5;241;43m.\u001b[39;49m\u001b[43m_handle_dbapi_exception\u001b[49m\u001b[43m(\u001b[49m\n\u001b[1;32m   1984\u001b[0m \u001b[43m        \u001b[49m\u001b[43me\u001b[49m\u001b[43m,\u001b[49m\u001b[43m \u001b[49m\u001b[43mstr_statement\u001b[49m\u001b[43m,\u001b[49m\u001b[43m \u001b[49m\u001b[43meffective_parameters\u001b[49m\u001b[43m,\u001b[49m\u001b[43m \u001b[49m\u001b[43mcursor\u001b[49m\u001b[43m,\u001b[49m\u001b[43m \u001b[49m\u001b[43mcontext\u001b[49m\n\u001b[1;32m   1985\u001b[0m \u001b[43m    \u001b[49m\u001b[43m)\u001b[49m\n\u001b[1;32m   1987\u001b[0m \u001b[38;5;28;01mreturn\u001b[39;00m result\n",
      "File \u001b[0;32m/opt/miniconda3/envs/amber_is_your_energy/lib/python3.11/site-packages/sqlalchemy/engine/base.py:2352\u001b[0m, in \u001b[0;36mConnection._handle_dbapi_exception\u001b[0;34m(self, e, statement, parameters, cursor, context, is_sub_exec)\u001b[0m\n\u001b[1;32m   2350\u001b[0m \u001b[38;5;28;01melif\u001b[39;00m should_wrap:\n\u001b[1;32m   2351\u001b[0m     \u001b[38;5;28;01massert\u001b[39;00m sqlalchemy_exception \u001b[38;5;129;01mis\u001b[39;00m \u001b[38;5;129;01mnot\u001b[39;00m \u001b[38;5;28;01mNone\u001b[39;00m\n\u001b[0;32m-> 2352\u001b[0m     \u001b[38;5;28;01mraise\u001b[39;00m sqlalchemy_exception\u001b[38;5;241m.\u001b[39mwith_traceback(exc_info[\u001b[38;5;241m2\u001b[39m]) \u001b[38;5;28;01mfrom\u001b[39;00m \u001b[38;5;21;01me\u001b[39;00m\n\u001b[1;32m   2353\u001b[0m \u001b[38;5;28;01melse\u001b[39;00m:\n\u001b[1;32m   2354\u001b[0m     \u001b[38;5;28;01massert\u001b[39;00m exc_info[\u001b[38;5;241m1\u001b[39m] \u001b[38;5;129;01mis\u001b[39;00m \u001b[38;5;129;01mnot\u001b[39;00m \u001b[38;5;28;01mNone\u001b[39;00m\n",
      "File \u001b[0;32m/opt/miniconda3/envs/amber_is_your_energy/lib/python3.11/site-packages/sqlalchemy/engine/base.py:1933\u001b[0m, in \u001b[0;36mConnection._exec_single_context\u001b[0;34m(self, dialect, context, statement, parameters)\u001b[0m\n\u001b[1;32m   1931\u001b[0m                 \u001b[38;5;28;01mbreak\u001b[39;00m\n\u001b[1;32m   1932\u001b[0m     \u001b[38;5;28;01mif\u001b[39;00m \u001b[38;5;129;01mnot\u001b[39;00m evt_handled:\n\u001b[0;32m-> 1933\u001b[0m         \u001b[38;5;28;43mself\u001b[39;49m\u001b[38;5;241;43m.\u001b[39;49m\u001b[43mdialect\u001b[49m\u001b[38;5;241;43m.\u001b[39;49m\u001b[43mdo_executemany\u001b[49m\u001b[43m(\u001b[49m\n\u001b[1;32m   1934\u001b[0m \u001b[43m            \u001b[49m\u001b[43mcursor\u001b[49m\u001b[43m,\u001b[49m\n\u001b[1;32m   1935\u001b[0m \u001b[43m            \u001b[49m\u001b[43mstr_statement\u001b[49m\u001b[43m,\u001b[49m\n\u001b[1;32m   1936\u001b[0m \u001b[43m            \u001b[49m\u001b[43meffective_parameters\u001b[49m\u001b[43m,\u001b[49m\n\u001b[1;32m   1937\u001b[0m \u001b[43m            \u001b[49m\u001b[43mcontext\u001b[49m\u001b[43m,\u001b[49m\n\u001b[1;32m   1938\u001b[0m \u001b[43m        \u001b[49m\u001b[43m)\u001b[49m\n\u001b[1;32m   1939\u001b[0m \u001b[38;5;28;01melif\u001b[39;00m \u001b[38;5;129;01mnot\u001b[39;00m effective_parameters \u001b[38;5;129;01mand\u001b[39;00m context\u001b[38;5;241m.\u001b[39mno_parameters:\n\u001b[1;32m   1940\u001b[0m     \u001b[38;5;28;01mif\u001b[39;00m \u001b[38;5;28mself\u001b[39m\u001b[38;5;241m.\u001b[39mdialect\u001b[38;5;241m.\u001b[39m_has_events:\n",
      "File \u001b[0;32m/opt/miniconda3/envs/amber_is_your_energy/lib/python3.11/site-packages/sqlalchemy/engine/default.py:939\u001b[0m, in \u001b[0;36mDefaultDialect.do_executemany\u001b[0;34m(self, cursor, statement, parameters, context)\u001b[0m\n\u001b[1;32m    938\u001b[0m \u001b[38;5;28;01mdef\u001b[39;00m \u001b[38;5;21mdo_executemany\u001b[39m(\u001b[38;5;28mself\u001b[39m, cursor, statement, parameters, context\u001b[38;5;241m=\u001b[39m\u001b[38;5;28;01mNone\u001b[39;00m):\n\u001b[0;32m--> 939\u001b[0m     \u001b[43mcursor\u001b[49m\u001b[38;5;241;43m.\u001b[39;49m\u001b[43mexecutemany\u001b[49m\u001b[43m(\u001b[49m\u001b[43mstatement\u001b[49m\u001b[43m,\u001b[49m\u001b[43m \u001b[49m\u001b[43mparameters\u001b[49m\u001b[43m)\u001b[49m\n",
      "\u001b[0;31mIntegrityError\u001b[0m: (sqlite3.IntegrityError) UNIQUE constraint failed: ATTRIBUTE_PRIMARY.primary_id\n[SQL: INSERT INTO \"ATTRIBUTE_PRIMARY\" (primary_id, design_id, strategy_id, future_id) VALUES (?, ?, ?, ?)]\n[parameters: [(0, 0, 0, 0), (40, 0, 0, 40), (14014, 0, 1014, 0), (14054, 0, 1014, 40), (118118, 0, 5001, 0), (118158, 0, 5001, 40), (121121, 0, 5004, 0), (121161, 0, 5004, 40)  ... displaying 10 of 12 total bound parameter sets ...  (125125, 0, 5008, 0), (125165, 0, 5008, 40)]]\n(Background on this error at: https://sqlalche.me/e/20/gkpj)"
     ]
    }
   ],
   "source": [
    "# we can use the pd.to_sql function to write to the database\n",
    "df_to_write.to_sql(\n",
    "    table_name, \n",
    "    engine, \n",
    "    if_exists = \"append\", \n",
    "    index = None,\n",
    ");\n"
   ]
  },
  {
   "cell_type": "code",
   "execution_count": 276,
   "id": "d0a208a4-59f9-42e7-851c-1029bb9999f8",
   "metadata": {},
   "outputs": [
    {
     "data": {
      "text/plain": [
       "array([0])"
      ]
     },
     "execution_count": 276,
     "metadata": {},
     "output_type": "execute_result"
    }
   ],
   "source": [
    "# get existing values in the primary key\n",
    "with engine.connect() as con:\n",
    "    existing_keys = pd.read_sql_query(f\"SELECT DISTINCT {primary_key} FROM {table_name};\", con)\n",
    "\n",
    "in_db = existing_keys[primary_key].to_numpy()\n",
    "\n",
    "in_db"
   ]
  },
  {
   "cell_type": "code",
   "execution_count": 277,
   "id": "6082fff5-341f-444b-9211-6362727379e6",
   "metadata": {},
   "outputs": [],
   "source": [
    "# try removing the existing key\n",
    "(\n",
    "    df_to_write[\n",
    "        ~df_to_write[primary_key].isin(in_db)\n",
    "    ].to_sql(\n",
    "        table_name, \n",
    "        engine, \n",
    "        if_exists = \"append\", \n",
    "        index = None,\n",
    "    )\n",
    ");\n"
   ]
  },
  {
   "cell_type": "code",
   "execution_count": 278,
   "id": "2e9a8144-7393-476c-bff4-d65a759af267",
   "metadata": {},
   "outputs": [
    {
     "data": {
      "text/html": [
       "<div>\n",
       "<style scoped>\n",
       "    .dataframe tbody tr th:only-of-type {\n",
       "        vertical-align: middle;\n",
       "    }\n",
       "\n",
       "    .dataframe tbody tr th {\n",
       "        vertical-align: top;\n",
       "    }\n",
       "\n",
       "    .dataframe thead th {\n",
       "        text-align: right;\n",
       "    }\n",
       "</style>\n",
       "<table border=\"1\" class=\"dataframe\">\n",
       "  <thead>\n",
       "    <tr style=\"text-align: right;\">\n",
       "      <th></th>\n",
       "      <th>primary_id</th>\n",
       "      <th>design_id</th>\n",
       "      <th>strategy_id</th>\n",
       "      <th>future_id</th>\n",
       "    </tr>\n",
       "  </thead>\n",
       "  <tbody>\n",
       "    <tr>\n",
       "      <th>0</th>\n",
       "      <td>0</td>\n",
       "      <td>0</td>\n",
       "      <td>0</td>\n",
       "      <td>0</td>\n",
       "    </tr>\n",
       "    <tr>\n",
       "      <th>1</th>\n",
       "      <td>40</td>\n",
       "      <td>0</td>\n",
       "      <td>0</td>\n",
       "      <td>40</td>\n",
       "    </tr>\n",
       "    <tr>\n",
       "      <th>2</th>\n",
       "      <td>14014</td>\n",
       "      <td>0</td>\n",
       "      <td>1014</td>\n",
       "      <td>0</td>\n",
       "    </tr>\n",
       "    <tr>\n",
       "      <th>3</th>\n",
       "      <td>14054</td>\n",
       "      <td>0</td>\n",
       "      <td>1014</td>\n",
       "      <td>40</td>\n",
       "    </tr>\n",
       "    <tr>\n",
       "      <th>4</th>\n",
       "      <td>118118</td>\n",
       "      <td>0</td>\n",
       "      <td>5001</td>\n",
       "      <td>0</td>\n",
       "    </tr>\n",
       "    <tr>\n",
       "      <th>5</th>\n",
       "      <td>118158</td>\n",
       "      <td>0</td>\n",
       "      <td>5001</td>\n",
       "      <td>40</td>\n",
       "    </tr>\n",
       "    <tr>\n",
       "      <th>6</th>\n",
       "      <td>121121</td>\n",
       "      <td>0</td>\n",
       "      <td>5004</td>\n",
       "      <td>0</td>\n",
       "    </tr>\n",
       "    <tr>\n",
       "      <th>7</th>\n",
       "      <td>121161</td>\n",
       "      <td>0</td>\n",
       "      <td>5004</td>\n",
       "      <td>40</td>\n",
       "    </tr>\n",
       "    <tr>\n",
       "      <th>8</th>\n",
       "      <td>123123</td>\n",
       "      <td>0</td>\n",
       "      <td>5006</td>\n",
       "      <td>0</td>\n",
       "    </tr>\n",
       "    <tr>\n",
       "      <th>9</th>\n",
       "      <td>123163</td>\n",
       "      <td>0</td>\n",
       "      <td>5006</td>\n",
       "      <td>40</td>\n",
       "    </tr>\n",
       "    <tr>\n",
       "      <th>10</th>\n",
       "      <td>125125</td>\n",
       "      <td>0</td>\n",
       "      <td>5008</td>\n",
       "      <td>0</td>\n",
       "    </tr>\n",
       "    <tr>\n",
       "      <th>11</th>\n",
       "      <td>125165</td>\n",
       "      <td>0</td>\n",
       "      <td>5008</td>\n",
       "      <td>40</td>\n",
       "    </tr>\n",
       "  </tbody>\n",
       "</table>\n",
       "</div>"
      ],
      "text/plain": [
       "    primary_id  design_id  strategy_id  future_id\n",
       "0            0          0            0          0\n",
       "1           40          0            0         40\n",
       "2        14014          0         1014          0\n",
       "3        14054          0         1014         40\n",
       "4       118118          0         5001          0\n",
       "5       118158          0         5001         40\n",
       "6       121121          0         5004          0\n",
       "7       121161          0         5004         40\n",
       "8       123123          0         5006          0\n",
       "9       123163          0         5006         40\n",
       "10      125125          0         5008          0\n",
       "11      125165          0         5008         40"
      ]
     },
     "execution_count": 278,
     "metadata": {},
     "output_type": "execute_result"
    }
   ],
   "source": [
    "# check the transaction\n",
    "with engine.connect() as con:\n",
    "    df_check = pd.read_sql_query(f\"SELECT * FROM {table_name}\", con)\n",
    "    \n",
    "df_check"
   ]
  },
  {
   "cell_type": "code",
   "execution_count": 206,
   "id": "80f9a931-b807-4fea-856b-0d7a6356b50f",
   "metadata": {},
   "outputs": [],
   "source": [
    "# finally, we can remove the table"
   ]
  },
  {
   "cell_type": "code",
   "execution_count": 279,
   "id": "f25796ad-b556-44df-b19b-1846be6e522f",
   "metadata": {},
   "outputs": [],
   "source": [
    "with engine.connect() as con:\n",
    "    con.execute(sqlalchemy.text(f\"DROP TABLE {table_name};\"))\n",
    "    con.commit()"
   ]
  },
  {
   "cell_type": "code",
   "execution_count": 280,
   "id": "dbcc1179-beb2-4123-af2b-c8f9b0941533",
   "metadata": {},
   "outputs": [
    {
     "data": {
      "text/plain": [
       "False"
      ]
     },
     "execution_count": 280,
     "metadata": {},
     "output_type": "execute_result"
    }
   ],
   "source": [
    "table_name in sqlalchemy.inspect(engine).get_table_names() "
   ]
  },
  {
   "cell_type": "code",
   "execution_count": null,
   "id": "4989903b-16f9-4759-9402-979af14b3bca",
   "metadata": {},
   "outputs": [],
   "source": []
  },
  {
   "cell_type": "markdown",
   "id": "94d40321-d5d6-4009-ae27-918c95767629",
   "metadata": {},
   "source": [
    "###  Queries that modify the tables must be commited\n",
    "- Think about the ACID principles\n",
    "- Transactions can be executed, but don't necessarily take action until commited\n",
    "- Can explicitly commit or use autommit option with sqlalchemy.text\n",
    "- For more on committing, see [SQLAlchemy Autocommit](https://docs.sqlalchemy.org/en/20/core/connections.html#understanding-autocommit)"
   ]
  },
  {
   "cell_type": "code",
   "execution_count": null,
   "id": "40e990f4-d2f5-4da5-980f-8774c96d2e75",
   "metadata": {},
   "outputs": [],
   "source": [
    "if query is not None:\n",
    "    with db_engine.connect() as con:\n",
    "        con.execute(sqlalchemy.text(query))\n",
    "        con.commit()"
   ]
  },
  {
   "cell_type": "markdown",
   "id": "2c993c9e-10ab-4b24-b295-7b0dbb62faf6",
   "metadata": {},
   "source": [
    "# Assignment\n",
    "\n",
    "We are going to use SQLAlchemy to:\n",
    "\n",
    "- Read some CSVs\n",
    "- Create an SQLite database\n",
    "- Create the tables associated with each CSV\n",
    "- Write data in the CSVs to its associated table\n",
    "- Execute some SQL queries to answer some questions"
   ]
  },
  {
   "cell_type": "markdown",
   "id": "fc276d62-10f0-40dd-a23c-391c3ab66288",
   "metadata": {},
   "source": [
    "## 1. Check `path_tables` to ensure that all CSVs are unzipped\n",
    "\n",
    "For the purposes of this exercise, one or more large CSVs are stored as a zip in `path_tables`. Use zipfile package to decompress any large CSVs.\n"
   ]
  },
  {
   "cell_type": "code",
   "execution_count": null,
   "id": "6502a42b-f20b-4f4e-a6ed-62fa0ad00eca",
   "metadata": {},
   "outputs": [],
   "source": [
    "# here's the basic structure - https://stackoverflow.com/questions/3451111/unzipping-files-in-python\n",
    "import zipfile\n",
    "\n",
    "\"\"\"\n",
    "with zipfile.ZipFile(path_to_zip_file, 'r') as zip_ref:\n",
    "     zip_ref.extractall(directory_to_extract_to)\n",
    "\"\"\""
   ]
  },
  {
   "cell_type": "code",
   "execution_count": 122,
   "id": "c1ef1ac4-1873-4467-8b87-af19567bd1e4",
   "metadata": {},
   "outputs": [],
   "source": [
    "# TODO: unzip any zip files in path_tables"
   ]
  },
  {
   "cell_type": "markdown",
   "id": "96c0dd37-0971-43c4-8d43-a811a6a33a18",
   "metadata": {},
   "source": [
    "##  2. Read in the tables\n",
    "\n",
    "- Set up code to read all CSV tables **without explicitly specifying their name** in `path_tables`\n",
    "- Get a list of tables to read in from the directory\n",
    "- Assign the tables to a dictionary"
   ]
  },
  {
   "cell_type": "code",
   "execution_count": 295,
   "id": "fdfe3afb-bb66-4a38-806e-23362aef7460",
   "metadata": {},
   "outputs": [
    {
     "data": {
      "text/plain": [
       "False"
      ]
     },
     "execution_count": 295,
     "metadata": {},
     "output_type": "execute_result"
    }
   ],
   "source": [
    "# TODO: get all CSV files in path_tables\n",
    "#   - specify a regular expression using re.compile to match on\n",
    "#      - use regex.match(string) to check if a string matches \n",
    "#      - returns None if there's no valid match\n",
    "\n",
    "regex = re.compile(\"(.*\\w).csv$\")\n",
    "regex.match(\"this is a name.csv3\") is not None\n"
   ]
  },
  {
   "cell_type": "code",
   "execution_count": 39,
   "id": "a9cdac5e-39ee-4e55-a2df-116943de781b",
   "metadata": {},
   "outputs": [],
   "source": [
    "# TODO: read tables in to an object that can be associated each table with its name"
   ]
  },
  {
   "cell_type": "markdown",
   "id": "8a0f6b62-45a4-4174-8496-f3d2f079a355",
   "metadata": {},
   "source": [
    "##  3. Create an SQLite database\n"
   ]
  },
  {
   "cell_type": "code",
   "execution_count": 17,
   "id": "bc30ada9-e3bf-46dc-aef1-b74e481ffada",
   "metadata": {},
   "outputs": [],
   "source": [
    "# TODO: create the SQLite database \n",
    "#     NOTE: if you use sqlalchemy.create_engine(\"sqlite:///{path}\") and the database doesn't exist, \n",
    "#     it will create the file)\n",
    "\n"
   ]
  },
  {
   "cell_type": "markdown",
   "id": "ebe5fe58-31bb-49ee-9d9e-7cdc84edbde6",
   "metadata": {},
   "source": [
    "### Create tables and schema\n",
    "\n",
    "- Remember, we have to specify types; how do we translate types from pandas to those in \n",
    "- Need to use the `ALTER TABLE` query to assign primary keys to each table after it's complete. See [w3schools](https://www.w3schools.com/sql/sql_primarykey.ASP) for information on how to alter the table to add the primary key. **NOTE** a number of tables have multi-attribute primary keys. \n",
    "\n",
    "- Write a function(s) that can take a `pd.DataFrame` and generate this query\n"
   ]
  },
  {
   "cell_type": "code",
   "execution_count": null,
   "id": "4000bb0a-a88d-4636-abc4-ebc5c7c2ee6c",
   "metadata": {},
   "outputs": [],
   "source": [
    "# TODO: create a function to create a database schema based on columns in the CSV"
   ]
  },
  {
   "cell_type": "code",
   "execution_count": null,
   "id": "cbefc69b-d23d-4552-837d-1cdfee0f9e6c",
   "metadata": {},
   "outputs": [],
   "source": [
    "# TODO: create a function to write a table to the database using the data, table name, and engine"
   ]
  },
  {
   "cell_type": "code",
   "execution_count": null,
   "id": "96a84833-9c14-43cc-b2e2-33da5697a759",
   "metadata": {},
   "outputs": [],
   "source": [
    "# TODO: write each table to the database"
   ]
  },
  {
   "cell_type": "markdown",
   "id": "b03ef0a8-1a6c-4207-ad4d-0b6b0c43096a",
   "metadata": {},
   "source": [
    "##  4. Execute queries using SQL Alchemy\n",
    "\n",
    "The data store model runs (inputs and outputs) for an emissons model in different countries in Latin America across different policy sets (indexed by `strategy_id`) and assumptions about potential future states of the world (`future_id`). \n",
    "\n",
    "In `MODEL_OUTUPTS`, you can use the sum of all columns that start with `emission_co2e_subsector_total` as the net emissions. You may need to add this sum to your table.\n",
    "\n",
    "Once you've populated the database, use the SQL Queries we've talked about to answer the following questions:\n",
    "\n",
    "\n",
    "1. What are the top five emitting countries in 2015? How about in 2050? What are the bottom five in 2015 and 2050?\n",
    "2. What are the average baseline (strategy name is `**baseline NDP**`) emissions in 2030, 2040, and 2050 for countries whose population center is below the equator? How about above the equator? How about for the strategy called `**PFLO: all transformations with partial land use allocation**`?\n",
    "    - **NOTES**\n",
    "        - the `ATTRIBUTE_REGION` table contains this information for each region to identify population centers above and below the equator\n",
    "        - the `ATTRIBUTE_STRATEGY` table contains information about the names\n",
    "3. In 2050 and for the `**PFLO: all transformations with partial land use allocation**` strategy, which country sees the largest difference in emissions between future 0 and future 40?\n",
    "\n"
   ]
  },
  {
   "cell_type": "code",
   "execution_count": null,
   "id": "45e4d0e7-f04c-47a7-9ab6-4a6639f26da4",
   "metadata": {},
   "outputs": [],
   "source": []
  },
  {
   "cell_type": "code",
   "execution_count": null,
   "id": "023d94c7-d45d-4f92-9042-6cb7ad92d782",
   "metadata": {},
   "outputs": [],
   "source": []
  },
  {
   "cell_type": "code",
   "execution_count": 298,
   "id": "c0e52bf7-8abd-47c9-9847-8746bedecec2",
   "metadata": {},
   "outputs": [],
   "source": [
    "df_in = pd.read_csv(path_tables.joinpath(\"ATTRIBUTE_REGION.csv\"))"
   ]
  },
  {
   "cell_type": "code",
   "execution_count": 299,
   "id": "9b3cae84-2459-44da-a579-c718c7e30369",
   "metadata": {},
   "outputs": [
    {
     "data": {
      "text/html": [
       "<div>\n",
       "<style scoped>\n",
       "    .dataframe tbody tr th:only-of-type {\n",
       "        vertical-align: middle;\n",
       "    }\n",
       "\n",
       "    .dataframe tbody tr th {\n",
       "        vertical-align: top;\n",
       "    }\n",
       "\n",
       "    .dataframe thead th {\n",
       "        text-align: right;\n",
       "    }\n",
       "</style>\n",
       "<table border=\"1\" class=\"dataframe\">\n",
       "  <thead>\n",
       "    <tr style=\"text-align: right;\">\n",
       "      <th></th>\n",
       "      <th>category_name</th>\n",
       "      <th>region</th>\n",
       "      <th>iso_alpha_3</th>\n",
       "      <th>iso_alpha_2</th>\n",
       "      <th>iso_numeric</th>\n",
       "      <th>fao_area_code</th>\n",
       "      <th>weo_country_code</th>\n",
       "      <th>ipcc_ar5_region</th>\n",
       "      <th>ipcc_estimated_afolu_region</th>\n",
       "      <th>un_region</th>\n",
       "      <th>un_sub_region</th>\n",
       "      <th>world_bank_global_region</th>\n",
       "      <th>latitude_population_centroid_2020</th>\n",
       "      <th>longitude_population_centroid_2020</th>\n",
       "    </tr>\n",
       "  </thead>\n",
       "  <tbody>\n",
       "    <tr>\n",
       "      <th>0</th>\n",
       "      <td>Afghanistan</td>\n",
       "      <td>afghanistan</td>\n",
       "      <td>AFG</td>\n",
       "      <td>AF</td>\n",
       "      <td>4</td>\n",
       "      <td>2</td>\n",
       "      <td>512</td>\n",
       "      <td>South Asia</td>\n",
       "      <td>South Asia (Indian subcontinent)</td>\n",
       "      <td>Asia</td>\n",
       "      <td>Southern Asia</td>\n",
       "      <td>South Asia</td>\n",
       "      <td>34.612592</td>\n",
       "      <td>67.507387</td>\n",
       "    </tr>\n",
       "    <tr>\n",
       "      <th>1</th>\n",
       "      <td>Albania</td>\n",
       "      <td>albania</td>\n",
       "      <td>ALB</td>\n",
       "      <td>AL</td>\n",
       "      <td>8</td>\n",
       "      <td>3</td>\n",
       "      <td>914</td>\n",
       "      <td>Economies in Transition</td>\n",
       "      <td>Eastern Europe</td>\n",
       "      <td>Europe</td>\n",
       "      <td>Southern Europe</td>\n",
       "      <td>Europe &amp; Central Asia</td>\n",
       "      <td>41.206902</td>\n",
       "      <td>19.858921</td>\n",
       "    </tr>\n",
       "    <tr>\n",
       "      <th>2</th>\n",
       "      <td>Algeria</td>\n",
       "      <td>algeria</td>\n",
       "      <td>DZA</td>\n",
       "      <td>DZ</td>\n",
       "      <td>12</td>\n",
       "      <td>4</td>\n",
       "      <td>612</td>\n",
       "      <td>Middle East and North Africa</td>\n",
       "      <td>Near East (Middle East) and North Africa</td>\n",
       "      <td>Africa</td>\n",
       "      <td>Northern Africa</td>\n",
       "      <td>Middle East &amp; North Africa</td>\n",
       "      <td>35.524570</td>\n",
       "      <td>3.494062</td>\n",
       "    </tr>\n",
       "    <tr>\n",
       "      <th>3</th>\n",
       "      <td>American Samoa</td>\n",
       "      <td>american_samoa</td>\n",
       "      <td>ASM</td>\n",
       "      <td>AS</td>\n",
       "      <td>16</td>\n",
       "      <td>5</td>\n",
       "      <td>-999</td>\n",
       "      <td>South-East Asia and Pacific</td>\n",
       "      <td>Oceania</td>\n",
       "      <td>Oceania</td>\n",
       "      <td>Polynesia</td>\n",
       "      <td>East Asia &amp; Pacific</td>\n",
       "      <td>-14.309417</td>\n",
       "      <td>-170.690438</td>\n",
       "    </tr>\n",
       "    <tr>\n",
       "      <th>4</th>\n",
       "      <td>Andorra</td>\n",
       "      <td>andorra</td>\n",
       "      <td>AND</td>\n",
       "      <td>AD</td>\n",
       "      <td>20</td>\n",
       "      <td>6</td>\n",
       "      <td>171</td>\n",
       "      <td>Western Europe</td>\n",
       "      <td>Western Europe</td>\n",
       "      <td>Europe</td>\n",
       "      <td>Southern Europe</td>\n",
       "      <td>Europe &amp; Central Asia</td>\n",
       "      <td>42.524074</td>\n",
       "      <td>1.562281</td>\n",
       "    </tr>\n",
       "    <tr>\n",
       "      <th>...</th>\n",
       "      <td>...</td>\n",
       "      <td>...</td>\n",
       "      <td>...</td>\n",
       "      <td>...</td>\n",
       "      <td>...</td>\n",
       "      <td>...</td>\n",
       "      <td>...</td>\n",
       "      <td>...</td>\n",
       "      <td>...</td>\n",
       "      <td>...</td>\n",
       "      <td>...</td>\n",
       "      <td>...</td>\n",
       "      <td>...</td>\n",
       "      <td>...</td>\n",
       "    </tr>\n",
       "    <tr>\n",
       "      <th>212</th>\n",
       "      <td>Viet Nam</td>\n",
       "      <td>viet_nam</td>\n",
       "      <td>VNM</td>\n",
       "      <td>VN</td>\n",
       "      <td>704</td>\n",
       "      <td>237</td>\n",
       "      <td>582</td>\n",
       "      <td>South-East Asia and Pacific</td>\n",
       "      <td>East Asia and South-East Asia</td>\n",
       "      <td>Asia</td>\n",
       "      <td>South-eastern Asia</td>\n",
       "      <td>East Asia &amp; Pacific</td>\n",
       "      <td>15.441861</td>\n",
       "      <td>106.418389</td>\n",
       "    </tr>\n",
       "    <tr>\n",
       "      <th>213</th>\n",
       "      <td>Yemen</td>\n",
       "      <td>yemen</td>\n",
       "      <td>YEM</td>\n",
       "      <td>YE</td>\n",
       "      <td>887</td>\n",
       "      <td>249</td>\n",
       "      <td>474</td>\n",
       "      <td>Middle East and North Africa</td>\n",
       "      <td>Near East (Middle East) and North Africa</td>\n",
       "      <td>Asia</td>\n",
       "      <td>Western Asia</td>\n",
       "      <td>Middle East &amp; North Africa</td>\n",
       "      <td>14.735593</td>\n",
       "      <td>44.434270</td>\n",
       "    </tr>\n",
       "    <tr>\n",
       "      <th>214</th>\n",
       "      <td>Zambia</td>\n",
       "      <td>zambia</td>\n",
       "      <td>ZMB</td>\n",
       "      <td>ZM</td>\n",
       "      <td>894</td>\n",
       "      <td>251</td>\n",
       "      <td>754</td>\n",
       "      <td>Sub Saharan Africa</td>\n",
       "      <td>Sub-Saharan Africa</td>\n",
       "      <td>Africa</td>\n",
       "      <td>Sub-Saharan Africa</td>\n",
       "      <td>Sub-Saharan Africa</td>\n",
       "      <td>-13.593902</td>\n",
       "      <td>28.635402</td>\n",
       "    </tr>\n",
       "    <tr>\n",
       "      <th>215</th>\n",
       "      <td>Zimbabwe</td>\n",
       "      <td>zimbabwe</td>\n",
       "      <td>ZWE</td>\n",
       "      <td>ZW</td>\n",
       "      <td>716</td>\n",
       "      <td>181</td>\n",
       "      <td>698</td>\n",
       "      <td>Sub Saharan Africa</td>\n",
       "      <td>Sub-Saharan Africa</td>\n",
       "      <td>Africa</td>\n",
       "      <td>Sub-Saharan Africa</td>\n",
       "      <td>Sub-Saharan Africa</td>\n",
       "      <td>-18.652425</td>\n",
       "      <td>30.618165</td>\n",
       "    </tr>\n",
       "    <tr>\n",
       "      <th>216</th>\n",
       "      <td>Louisiana</td>\n",
       "      <td>louisiana</td>\n",
       "      <td>LA</td>\n",
       "      <td>LN</td>\n",
       "      <td>22</td>\n",
       "      <td>22</td>\n",
       "      <td>22</td>\n",
       "      <td>none</td>\n",
       "      <td>none</td>\n",
       "      <td>none</td>\n",
       "      <td>none</td>\n",
       "      <td>none</td>\n",
       "      <td>0.000000</td>\n",
       "      <td>0.000000</td>\n",
       "    </tr>\n",
       "  </tbody>\n",
       "</table>\n",
       "<p>217 rows × 14 columns</p>\n",
       "</div>"
      ],
      "text/plain": [
       "      category_name          region iso_alpha_3 iso_alpha_2  iso_numeric  \\\n",
       "0       Afghanistan     afghanistan         AFG          AF            4   \n",
       "1           Albania         albania         ALB          AL            8   \n",
       "2           Algeria         algeria         DZA          DZ           12   \n",
       "3    American Samoa  american_samoa         ASM          AS           16   \n",
       "4           Andorra         andorra         AND          AD           20   \n",
       "..              ...             ...         ...         ...          ...   \n",
       "212        Viet Nam        viet_nam         VNM          VN          704   \n",
       "213           Yemen           yemen         YEM          YE          887   \n",
       "214          Zambia          zambia         ZMB          ZM          894   \n",
       "215        Zimbabwe        zimbabwe         ZWE          ZW          716   \n",
       "216       Louisiana       louisiana          LA          LN           22   \n",
       "\n",
       "     fao_area_code  weo_country_code               ipcc_ar5_region  \\\n",
       "0                2               512                    South Asia   \n",
       "1                3               914       Economies in Transition   \n",
       "2                4               612  Middle East and North Africa   \n",
       "3                5              -999   South-East Asia and Pacific   \n",
       "4                6               171                Western Europe   \n",
       "..             ...               ...                           ...   \n",
       "212            237               582   South-East Asia and Pacific   \n",
       "213            249               474  Middle East and North Africa   \n",
       "214            251               754            Sub Saharan Africa   \n",
       "215            181               698            Sub Saharan Africa   \n",
       "216             22                22                          none   \n",
       "\n",
       "                  ipcc_estimated_afolu_region un_region       un_sub_region  \\\n",
       "0            South Asia (Indian subcontinent)      Asia       Southern Asia   \n",
       "1                              Eastern Europe    Europe     Southern Europe   \n",
       "2    Near East (Middle East) and North Africa    Africa     Northern Africa   \n",
       "3                                     Oceania   Oceania           Polynesia   \n",
       "4                              Western Europe    Europe     Southern Europe   \n",
       "..                                        ...       ...                 ...   \n",
       "212             East Asia and South-East Asia      Asia  South-eastern Asia   \n",
       "213  Near East (Middle East) and North Africa      Asia        Western Asia   \n",
       "214                        Sub-Saharan Africa    Africa  Sub-Saharan Africa   \n",
       "215                        Sub-Saharan Africa    Africa  Sub-Saharan Africa   \n",
       "216                                      none      none                none   \n",
       "\n",
       "       world_bank_global_region  latitude_population_centroid_2020  \\\n",
       "0                    South Asia                          34.612592   \n",
       "1         Europe & Central Asia                          41.206902   \n",
       "2    Middle East & North Africa                          35.524570   \n",
       "3           East Asia & Pacific                         -14.309417   \n",
       "4         Europe & Central Asia                          42.524074   \n",
       "..                          ...                                ...   \n",
       "212         East Asia & Pacific                          15.441861   \n",
       "213  Middle East & North Africa                          14.735593   \n",
       "214          Sub-Saharan Africa                         -13.593902   \n",
       "215          Sub-Saharan Africa                         -18.652425   \n",
       "216                        none                           0.000000   \n",
       "\n",
       "     longitude_population_centroid_2020  \n",
       "0                             67.507387  \n",
       "1                             19.858921  \n",
       "2                              3.494062  \n",
       "3                           -170.690438  \n",
       "4                              1.562281  \n",
       "..                                  ...  \n",
       "212                          106.418389  \n",
       "213                           44.434270  \n",
       "214                           28.635402  \n",
       "215                           30.618165  \n",
       "216                            0.000000  \n",
       "\n",
       "[217 rows x 14 columns]"
      ]
     },
     "execution_count": 299,
     "metadata": {},
     "output_type": "execute_result"
    }
   ],
   "source": [
    "df_in"
   ]
  },
  {
   "cell_type": "code",
   "execution_count": null,
   "id": "a34c51a4-cccb-4b4f-873c-fd0a62731a4c",
   "metadata": {},
   "outputs": [],
   "source": []
  }
 ],
 "metadata": {
  "kernelspec": {
   "display_name": "Python 3 (ipykernel)",
   "language": "python",
   "name": "python3"
  },
  "language_info": {
   "codemirror_mode": {
    "name": "ipython",
    "version": 3
   },
   "file_extension": ".py",
   "mimetype": "text/x-python",
   "name": "python",
   "nbconvert_exporter": "python",
   "pygments_lexer": "ipython3",
   "version": "3.11.8"
  }
 },
 "nbformat": 4,
 "nbformat_minor": 5
}
